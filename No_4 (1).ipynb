{
 "cells": [
  {
   "cell_type": "code",
   "execution_count": 1,
   "id": "a9cf5cec-c8ac-4651-a295-3314d371d5e7",
   "metadata": {},
   "outputs": [],
   "source": [
    "import json\n",
    "import pandas as pd\n",
    "import numpy as np\n",
    "import matplotlib.pyplot as plt\n",
    "import seaborn as sns\n",
    "from scipy import stats\n",
    "import scipy\n",
    "scipy.__version__\n",
    "from sqlalchemy import create_engine\n",
    "from sqlalchemy_utils import database_exists, create_database\n",
    "import pymysql\n",
    "pymysql.install_as_MySQLdb()\n",
    "from urllib.parse import quote_plus as urlquote\n",
    "from statsmodels.stats.multicomp import pairwise_tukeyhsd"
   ]
  },
  {
   "cell_type": "code",
   "execution_count": 2,
   "id": "b92dcd6c-95c6-4ee1-a306-0ae7b0afaf99",
   "metadata": {},
   "outputs": [
    {
     "data": {
      "text/html": [
       "<div>\n",
       "<style scoped>\n",
       "    .dataframe tbody tr th:only-of-type {\n",
       "        vertical-align: middle;\n",
       "    }\n",
       "\n",
       "    .dataframe tbody tr th {\n",
       "        vertical-align: top;\n",
       "    }\n",
       "\n",
       "    .dataframe thead th {\n",
       "        text-align: right;\n",
       "    }\n",
       "</style>\n",
       "<table border=\"1\" class=\"dataframe\">\n",
       "  <thead>\n",
       "    <tr style=\"text-align: right;\">\n",
       "      <th></th>\n",
       "      <th>imdb_id</th>\n",
       "      <th>adult</th>\n",
       "      <th>backdrop_path</th>\n",
       "      <th>belongs_to_collection</th>\n",
       "      <th>budget</th>\n",
       "      <th>genres</th>\n",
       "      <th>homepage</th>\n",
       "      <th>id</th>\n",
       "      <th>original_language</th>\n",
       "      <th>original_title</th>\n",
       "      <th>...</th>\n",
       "      <th>revenue</th>\n",
       "      <th>runtime</th>\n",
       "      <th>spoken_languages</th>\n",
       "      <th>status</th>\n",
       "      <th>tagline</th>\n",
       "      <th>title</th>\n",
       "      <th>video</th>\n",
       "      <th>vote_average</th>\n",
       "      <th>vote_count</th>\n",
       "      <th>certification</th>\n",
       "    </tr>\n",
       "  </thead>\n",
       "  <tbody>\n",
       "    <tr>\n",
       "      <th>0</th>\n",
       "      <td>0</td>\n",
       "      <td>NaN</td>\n",
       "      <td>NaN</td>\n",
       "      <td>NaN</td>\n",
       "      <td>NaN</td>\n",
       "      <td>NaN</td>\n",
       "      <td>NaN</td>\n",
       "      <td>NaN</td>\n",
       "      <td>NaN</td>\n",
       "      <td>NaN</td>\n",
       "      <td>...</td>\n",
       "      <td>NaN</td>\n",
       "      <td>NaN</td>\n",
       "      <td>NaN</td>\n",
       "      <td>NaN</td>\n",
       "      <td>NaN</td>\n",
       "      <td>NaN</td>\n",
       "      <td>NaN</td>\n",
       "      <td>NaN</td>\n",
       "      <td>NaN</td>\n",
       "      <td>NaN</td>\n",
       "    </tr>\n",
       "    <tr>\n",
       "      <th>1</th>\n",
       "      <td>tt0034413</td>\n",
       "      <td>0.0</td>\n",
       "      <td>NaN</td>\n",
       "      <td>NaN</td>\n",
       "      <td>0.0</td>\n",
       "      <td>[{'id': 99, 'name': 'Documentary'}]</td>\n",
       "      <td>NaN</td>\n",
       "      <td>1022890.0</td>\n",
       "      <td>en</td>\n",
       "      <td>Youth Gets a Break</td>\n",
       "      <td>...</td>\n",
       "      <td>0.0</td>\n",
       "      <td>20.0</td>\n",
       "      <td>[]</td>\n",
       "      <td>Released</td>\n",
       "      <td>NaN</td>\n",
       "      <td>Youth Gets a Break</td>\n",
       "      <td>0.0</td>\n",
       "      <td>0.0</td>\n",
       "      <td>0.0</td>\n",
       "      <td>NaN</td>\n",
       "    </tr>\n",
       "  </tbody>\n",
       "</table>\n",
       "<p>2 rows × 26 columns</p>\n",
       "</div>"
      ],
      "text/plain": [
       "     imdb_id  adult backdrop_path belongs_to_collection  budget  \\\n",
       "0          0    NaN           NaN                   NaN     NaN   \n",
       "1  tt0034413    0.0           NaN                   NaN     0.0   \n",
       "\n",
       "                                genres homepage         id original_language  \\\n",
       "0                                  NaN      NaN        NaN               NaN   \n",
       "1  [{'id': 99, 'name': 'Documentary'}]      NaN  1022890.0                en   \n",
       "\n",
       "       original_title  ... revenue  runtime spoken_languages    status  \\\n",
       "0                 NaN  ...     NaN      NaN              NaN       NaN   \n",
       "1  Youth Gets a Break  ...     0.0     20.0               []  Released   \n",
       "\n",
       "  tagline               title  video  vote_average vote_count certification  \n",
       "0     NaN                 NaN    NaN           NaN        NaN           NaN  \n",
       "1     NaN  Youth Gets a Break    0.0           0.0        0.0           NaN  \n",
       "\n",
       "[2 rows x 26 columns]"
      ]
     },
     "execution_count": 2,
     "metadata": {},
     "output_type": "execute_result"
    }
   ],
   "source": [
    "df_2001 = pd.read_csv(\"data/final_tmdb_data_2001.csv.gz\")\n",
    "df_2001.head(2)"
   ]
  },
  {
   "cell_type": "code",
   "execution_count": 3,
   "id": "b4a83854-678c-4d06-a3a4-51a011138d4d",
   "metadata": {},
   "outputs": [
    {
     "data": {
      "text/html": [
       "<div>\n",
       "<style scoped>\n",
       "    .dataframe tbody tr th:only-of-type {\n",
       "        vertical-align: middle;\n",
       "    }\n",
       "\n",
       "    .dataframe tbody tr th {\n",
       "        vertical-align: top;\n",
       "    }\n",
       "\n",
       "    .dataframe thead th {\n",
       "        text-align: right;\n",
       "    }\n",
       "</style>\n",
       "<table border=\"1\" class=\"dataframe\">\n",
       "  <thead>\n",
       "    <tr style=\"text-align: right;\">\n",
       "      <th></th>\n",
       "      <th>imdb_id</th>\n",
       "      <th>adult</th>\n",
       "      <th>backdrop_path</th>\n",
       "      <th>belongs_to_collection</th>\n",
       "      <th>budget</th>\n",
       "      <th>genres</th>\n",
       "      <th>homepage</th>\n",
       "      <th>id</th>\n",
       "      <th>original_language</th>\n",
       "      <th>original_title</th>\n",
       "      <th>...</th>\n",
       "      <th>revenue</th>\n",
       "      <th>runtime</th>\n",
       "      <th>spoken_languages</th>\n",
       "      <th>status</th>\n",
       "      <th>tagline</th>\n",
       "      <th>title</th>\n",
       "      <th>video</th>\n",
       "      <th>vote_average</th>\n",
       "      <th>vote_count</th>\n",
       "      <th>certification</th>\n",
       "    </tr>\n",
       "  </thead>\n",
       "  <tbody>\n",
       "    <tr>\n",
       "      <th>0</th>\n",
       "      <td>0</td>\n",
       "      <td>NaN</td>\n",
       "      <td>NaN</td>\n",
       "      <td>NaN</td>\n",
       "      <td>NaN</td>\n",
       "      <td>NaN</td>\n",
       "      <td>NaN</td>\n",
       "      <td>NaN</td>\n",
       "      <td>NaN</td>\n",
       "      <td>NaN</td>\n",
       "      <td>...</td>\n",
       "      <td>NaN</td>\n",
       "      <td>NaN</td>\n",
       "      <td>NaN</td>\n",
       "      <td>NaN</td>\n",
       "      <td>NaN</td>\n",
       "      <td>NaN</td>\n",
       "      <td>NaN</td>\n",
       "      <td>NaN</td>\n",
       "      <td>NaN</td>\n",
       "      <td>NaN</td>\n",
       "    </tr>\n",
       "    <tr>\n",
       "      <th>1</th>\n",
       "      <td>tt0096056</td>\n",
       "      <td>0.0</td>\n",
       "      <td>/95U3MUDXu4xSCmVLtWgargRipDi.jpg</td>\n",
       "      <td>NaN</td>\n",
       "      <td>0.0</td>\n",
       "      <td>[{'id': 18, 'name': 'Drama'}]</td>\n",
       "      <td>NaN</td>\n",
       "      <td>109809.0</td>\n",
       "      <td>en</td>\n",
       "      <td>Crime and Punishment</td>\n",
       "      <td>...</td>\n",
       "      <td>0.0</td>\n",
       "      <td>126.0</td>\n",
       "      <td>[{'english_name': 'English', 'iso_639_1': 'en'...</td>\n",
       "      <td>Released</td>\n",
       "      <td>NaN</td>\n",
       "      <td>Crime and Punishment</td>\n",
       "      <td>0.0</td>\n",
       "      <td>5.4</td>\n",
       "      <td>13.0</td>\n",
       "      <td>NaN</td>\n",
       "    </tr>\n",
       "  </tbody>\n",
       "</table>\n",
       "<p>2 rows × 26 columns</p>\n",
       "</div>"
      ],
      "text/plain": [
       "     imdb_id  adult                     backdrop_path belongs_to_collection  \\\n",
       "0          0    NaN                               NaN                   NaN   \n",
       "1  tt0096056    0.0  /95U3MUDXu4xSCmVLtWgargRipDi.jpg                   NaN   \n",
       "\n",
       "   budget                         genres homepage        id original_language  \\\n",
       "0     NaN                            NaN      NaN       NaN               NaN   \n",
       "1     0.0  [{'id': 18, 'name': 'Drama'}]      NaN  109809.0                en   \n",
       "\n",
       "         original_title  ... revenue  runtime  \\\n",
       "0                   NaN  ...     NaN      NaN   \n",
       "1  Crime and Punishment  ...     0.0    126.0   \n",
       "\n",
       "                                    spoken_languages    status tagline  \\\n",
       "0                                                NaN       NaN     NaN   \n",
       "1  [{'english_name': 'English', 'iso_639_1': 'en'...  Released     NaN   \n",
       "\n",
       "                  title  video  vote_average vote_count certification  \n",
       "0                   NaN    NaN           NaN        NaN           NaN  \n",
       "1  Crime and Punishment    0.0           5.4       13.0           NaN  \n",
       "\n",
       "[2 rows x 26 columns]"
      ]
     },
     "execution_count": 3,
     "metadata": {},
     "output_type": "execute_result"
    }
   ],
   "source": [
    "df_2002 = pd.read_csv(\"data/final_tmdb_data_2002.csv.gz\")\n",
    "df_2002.head(2)"
   ]
  },
  {
   "cell_type": "code",
   "execution_count": 4,
   "id": "54258a2c-9f62-42d0-aecb-36d8f89762df",
   "metadata": {},
   "outputs": [],
   "source": [
    "df = pd.concat([df_2001, df_2002], ignore_index=True, sort=False)"
   ]
  },
  {
   "cell_type": "code",
   "execution_count": 5,
   "id": "78545a48-eb4e-416d-8486-743d605ce444",
   "metadata": {},
   "outputs": [
    {
     "name": "stdout",
     "output_type": "stream",
     "text": [
      "<class 'pandas.core.frame.DataFrame'>\n",
      "Index: 5537 entries, 0 to tt0412489\n",
      "Data columns (total 25 columns):\n",
      " #   Column                 Non-Null Count  Dtype  \n",
      "---  ------                 --------------  -----  \n",
      " 0   adult                  5535 non-null   float64\n",
      " 1   backdrop_path          2244 non-null   object \n",
      " 2   belongs_to_collection  457 non-null    object \n",
      " 3   budget                 5535 non-null   float64\n",
      " 4   genres                 5535 non-null   object \n",
      " 5   homepage               393 non-null    object \n",
      " 6   id                     5535 non-null   float64\n",
      " 7   original_language      5535 non-null   object \n",
      " 8   original_title         5535 non-null   object \n",
      " 9   overview               5373 non-null   object \n",
      " 10  popularity             5535 non-null   float64\n",
      " 11  poster_path            4702 non-null   object \n",
      " 12  production_companies   5535 non-null   object \n",
      " 13  production_countries   5535 non-null   object \n",
      " 14  release_date           5414 non-null   object \n",
      " 15  revenue                5535 non-null   float64\n",
      " 16  runtime                5535 non-null   float64\n",
      " 17  spoken_languages       5535 non-null   object \n",
      " 18  status                 5535 non-null   object \n",
      " 19  tagline                1909 non-null   object \n",
      " 20  title                  5535 non-null   object \n",
      " 21  video                  5535 non-null   float64\n",
      " 22  vote_average           5535 non-null   float64\n",
      " 23  vote_count             5535 non-null   float64\n",
      " 24  certification          1718 non-null   object \n",
      "dtypes: float64(9), object(16)\n",
      "memory usage: 1.1+ MB\n"
     ]
    }
   ],
   "source": [
    "# Setting the id as the index\n",
    "df = df.set_index('imdb_id')\n",
    "df.info()"
   ]
  },
  {
   "cell_type": "code",
   "execution_count": 6,
   "id": "756911c4-74e8-4e5b-8206-25a943d953bd",
   "metadata": {},
   "outputs": [],
   "source": [
    "df = df.dropna()"
   ]
  },
  {
   "cell_type": "markdown",
   "id": "fbba72c3-6fb8-4ea1-8389-065c0cd194c6",
   "metadata": {},
   "source": [
    "Q1: Does rating affect revenue?"
   ]
  },
  {
   "cell_type": "markdown",
   "id": "8a23cd2a-5c4f-4fc4-b280-b803b0181500",
   "metadata": {},
   "source": [
    "Null = Rating has no affect on revenue."
   ]
  },
  {
   "cell_type": "markdown",
   "id": "a4d07a52-865b-4005-8ab5-bb194bc39a32",
   "metadata": {},
   "source": [
    "Alternative = Rating does affect revenue."
   ]
  },
  {
   "cell_type": "code",
   "execution_count": 7,
   "id": "126fc334-0466-40d6-a534-c4b44bd12924",
   "metadata": {},
   "outputs": [
    {
     "data": {
      "text/plain": [
       "PG-13    17\n",
       "PG        9\n",
       "R         9\n",
       "G         5\n",
       "NR        2\n",
       "Name: certification, dtype: int64"
      ]
     },
     "execution_count": 7,
     "metadata": {},
     "output_type": "execute_result"
    }
   ],
   "source": [
    "df['certification'].value_counts()"
   ]
  },
  {
   "cell_type": "code",
   "execution_count": 8,
   "id": "32c7c9bf-e622-4744-b696-9c25d0275b86",
   "metadata": {},
   "outputs": [
    {
     "data": {
      "text/plain": [
       "count    4.200000e+01\n",
       "mean     2.411132e+08\n",
       "std      2.905927e+08\n",
       "min      0.000000e+00\n",
       "25%      1.867759e+07\n",
       "50%      1.601716e+08\n",
       "75%      3.616776e+08\n",
       "max      9.764756e+08\n",
       "Name: revenue, dtype: float64"
      ]
     },
     "execution_count": 8,
     "metadata": {},
     "output_type": "execute_result"
    }
   ],
   "source": [
    "df['revenue'].describe()"
   ]
  },
  {
   "cell_type": "markdown",
   "id": "ef15e1bf-05c8-4d69-ac07-d87e93aa0188",
   "metadata": {},
   "source": [
    "Multiple numerical samples point to use of Tukey/ANOVA"
   ]
  },
  {
   "cell_type": "code",
   "execution_count": 9,
   "id": "0459e296-5075-459e-a364-1d5c32893299",
   "metadata": {},
   "outputs": [
    {
     "data": {
      "image/png": "[encoded data removed]",
      "text/plain": [
       "<Figure size 640x480 with 1 Axes>"
      ]
     },
     "metadata": {},
     "output_type": "display_data"
    }
   ],
   "source": [
    "ax = sns.barplot(data=df, x='certification', y='revenue')\n",
    "ax.set_xticklabels(ax.get_xticklabels(), ha='right');"
   ]
  },
  {
   "cell_type": "code",
   "execution_count": 10,
   "id": "4d23ed66-b8df-43cd-99d2-69800a7cada1",
   "metadata": {},
   "outputs": [
    {
     "data": {
      "text/html": [
       "<div>\n",
       "<style scoped>\n",
       "    .dataframe tbody tr th:only-of-type {\n",
       "        vertical-align: middle;\n",
       "    }\n",
       "\n",
       "    .dataframe tbody tr th {\n",
       "        vertical-align: top;\n",
       "    }\n",
       "\n",
       "    .dataframe thead th {\n",
       "        text-align: right;\n",
       "    }\n",
       "</style>\n",
       "<table border=\"1\" class=\"dataframe\">\n",
       "  <thead>\n",
       "    <tr style=\"text-align: right;\">\n",
       "      <th></th>\n",
       "      <th>certification</th>\n",
       "      <th>revenue</th>\n",
       "    </tr>\n",
       "    <tr>\n",
       "      <th>imdb_id</th>\n",
       "      <th></th>\n",
       "      <th></th>\n",
       "    </tr>\n",
       "  </thead>\n",
       "  <tbody>\n",
       "    <tr>\n",
       "      <th>tt0120737</th>\n",
       "      <td>PG-13</td>\n",
       "      <td>871368364.0</td>\n",
       "    </tr>\n",
       "    <tr>\n",
       "      <th>tt0126029</th>\n",
       "      <td>PG</td>\n",
       "      <td>487900000.0</td>\n",
       "    </tr>\n",
       "    <tr>\n",
       "      <th>tt0198781</th>\n",
       "      <td>G</td>\n",
       "      <td>579700000.0</td>\n",
       "    </tr>\n",
       "    <tr>\n",
       "      <th>tt0221218</th>\n",
       "      <td>PG-13</td>\n",
       "      <td>23619609.0</td>\n",
       "    </tr>\n",
       "    <tr>\n",
       "      <th>tt0230011</th>\n",
       "      <td>PG</td>\n",
       "      <td>186053725.0</td>\n",
       "    </tr>\n",
       "    <tr>\n",
       "      <th>tt0232500</th>\n",
       "      <td>PG-13</td>\n",
       "      <td>207283925.0</td>\n",
       "    </tr>\n",
       "    <tr>\n",
       "      <th>tt0239395</th>\n",
       "      <td>PG</td>\n",
       "      <td>93375151.0</td>\n",
       "    </tr>\n",
       "    <tr>\n",
       "      <th>tt0240772</th>\n",
       "      <td>PG-13</td>\n",
       "      <td>450717150.0</td>\n",
       "    </tr>\n",
       "    <tr>\n",
       "      <th>tt0241527</th>\n",
       "      <td>PG</td>\n",
       "      <td>976475550.0</td>\n",
       "    </tr>\n",
       "    <tr>\n",
       "      <th>tt0247745</th>\n",
       "      <td>R</td>\n",
       "      <td>18492362.0</td>\n",
       "    </tr>\n",
       "    <tr>\n",
       "      <th>tt0261392</th>\n",
       "      <td>R</td>\n",
       "      <td>33788161.0</td>\n",
       "    </tr>\n",
       "    <tr>\n",
       "      <th>tt0263488</th>\n",
       "      <td>R</td>\n",
       "      <td>59217789.0</td>\n",
       "    </tr>\n",
       "    <tr>\n",
       "      <th>tt0265171</th>\n",
       "      <td>PG-13</td>\n",
       "      <td>0.0</td>\n",
       "    </tr>\n",
       "    <tr>\n",
       "      <th>tt0287635</th>\n",
       "      <td>G</td>\n",
       "      <td>28023563.0</td>\n",
       "    </tr>\n",
       "    <tr>\n",
       "      <th>tt0313159</th>\n",
       "      <td>NR</td>\n",
       "      <td>0.0</td>\n",
       "    </tr>\n",
       "    <tr>\n",
       "      <th>tt1073223</th>\n",
       "      <td>PG-13</td>\n",
       "      <td>0.0</td>\n",
       "    </tr>\n",
       "    <tr>\n",
       "      <th>tt0120804</th>\n",
       "      <td>R</td>\n",
       "      <td>103000000.0</td>\n",
       "    </tr>\n",
       "    <tr>\n",
       "      <th>tt0120912</th>\n",
       "      <td>PG-13</td>\n",
       "      <td>445135288.0</td>\n",
       "    </tr>\n",
       "    <tr>\n",
       "      <th>tt0145487</th>\n",
       "      <td>PG</td>\n",
       "      <td>821708551.0</td>\n",
       "    </tr>\n",
       "    <tr>\n",
       "      <th>tt0167261</th>\n",
       "      <td>PG-13</td>\n",
       "      <td>926287400.0</td>\n",
       "    </tr>\n",
       "    <tr>\n",
       "      <th>tt0187738</th>\n",
       "      <td>R</td>\n",
       "      <td>155010032.0</td>\n",
       "    </tr>\n",
       "    <tr>\n",
       "      <th>tt0243585</th>\n",
       "      <td>G</td>\n",
       "      <td>170000000.0</td>\n",
       "    </tr>\n",
       "    <tr>\n",
       "      <th>tt0246460</th>\n",
       "      <td>PG-13</td>\n",
       "      <td>431971116.0</td>\n",
       "    </tr>\n",
       "    <tr>\n",
       "      <th>tt0246677</th>\n",
       "      <td>R</td>\n",
       "      <td>0.0</td>\n",
       "    </tr>\n",
       "    <tr>\n",
       "      <th>tt0253754</th>\n",
       "      <td>PG-13</td>\n",
       "      <td>67312826.0</td>\n",
       "    </tr>\n",
       "    <tr>\n",
       "      <th>tt0257778</th>\n",
       "      <td>G</td>\n",
       "      <td>0.0</td>\n",
       "    </tr>\n",
       "    <tr>\n",
       "      <th>tt0258463</th>\n",
       "      <td>PG-13</td>\n",
       "      <td>214034224.0</td>\n",
       "    </tr>\n",
       "    <tr>\n",
       "      <th>tt0267913</th>\n",
       "      <td>PG</td>\n",
       "      <td>275650703.0</td>\n",
       "    </tr>\n",
       "    <tr>\n",
       "      <th>tt0268380</th>\n",
       "      <td>PG</td>\n",
       "      <td>383257136.0</td>\n",
       "    </tr>\n",
       "    <tr>\n",
       "      <th>tt0275847</th>\n",
       "      <td>PG</td>\n",
       "      <td>273144151.0</td>\n",
       "    </tr>\n",
       "    <tr>\n",
       "      <th>tt0277296</th>\n",
       "      <td>PG-13</td>\n",
       "      <td>165333180.0</td>\n",
       "    </tr>\n",
       "    <tr>\n",
       "      <th>tt0295178</th>\n",
       "      <td>PG-13</td>\n",
       "      <td>296938801.0</td>\n",
       "    </tr>\n",
       "    <tr>\n",
       "      <th>tt0295297</th>\n",
       "      <td>PG</td>\n",
       "      <td>876688482.0</td>\n",
       "    </tr>\n",
       "    <tr>\n",
       "      <th>tt0295701</th>\n",
       "      <td>PG-13</td>\n",
       "      <td>277448382.0</td>\n",
       "    </tr>\n",
       "    <tr>\n",
       "      <th>tt0295732</th>\n",
       "      <td>R</td>\n",
       "      <td>0.0</td>\n",
       "    </tr>\n",
       "    <tr>\n",
       "      <th>tt0297162</th>\n",
       "      <td>PG-13</td>\n",
       "      <td>19233280.0</td>\n",
       "    </tr>\n",
       "    <tr>\n",
       "      <th>tt0304669</th>\n",
       "      <td>G</td>\n",
       "      <td>172842355.0</td>\n",
       "    </tr>\n",
       "    <tr>\n",
       "      <th>tt0325655</th>\n",
       "      <td>R</td>\n",
       "      <td>1766761.0</td>\n",
       "    </tr>\n",
       "    <tr>\n",
       "      <th>tt0338450</th>\n",
       "      <td>R</td>\n",
       "      <td>0.0</td>\n",
       "    </tr>\n",
       "    <tr>\n",
       "      <th>tt0347791</th>\n",
       "      <td>NR</td>\n",
       "      <td>20867919.0</td>\n",
       "    </tr>\n",
       "    <tr>\n",
       "      <th>tt0420138</th>\n",
       "      <td>PG-13</td>\n",
       "      <td>0.0</td>\n",
       "    </tr>\n",
       "    <tr>\n",
       "      <th>tt0997084</th>\n",
       "      <td>PG-13</td>\n",
       "      <td>13107237.0</td>\n",
       "    </tr>\n",
       "  </tbody>\n",
       "</table>\n",
       "</div>"
      ],
      "text/plain": [
       "          certification      revenue\n",
       "imdb_id                             \n",
       "tt0120737         PG-13  871368364.0\n",
       "tt0126029            PG  487900000.0\n",
       "tt0198781             G  579700000.0\n",
       "tt0221218         PG-13   23619609.0\n",
       "tt0230011            PG  186053725.0\n",
       "tt0232500         PG-13  207283925.0\n",
       "tt0239395            PG   93375151.0\n",
       "tt0240772         PG-13  450717150.0\n",
       "tt0241527            PG  976475550.0\n",
       "tt0247745             R   18492362.0\n",
       "tt0261392             R   33788161.0\n",
       "tt0263488             R   59217789.0\n",
       "tt0265171         PG-13          0.0\n",
       "tt0287635             G   28023563.0\n",
       "tt0313159            NR          0.0\n",
       "tt1073223         PG-13          0.0\n",
       "tt0120804             R  103000000.0\n",
       "tt0120912         PG-13  445135288.0\n",
       "tt0145487            PG  821708551.0\n",
       "tt0167261         PG-13  926287400.0\n",
       "tt0187738             R  155010032.0\n",
       "tt0243585             G  170000000.0\n",
       "tt0246460         PG-13  431971116.0\n",
       "tt0246677             R          0.0\n",
       "tt0253754         PG-13   67312826.0\n",
       "tt0257778             G          0.0\n",
       "tt0258463         PG-13  214034224.0\n",
       "tt0267913            PG  275650703.0\n",
       "tt0268380            PG  383257136.0\n",
       "tt0275847            PG  273144151.0\n",
       "tt0277296         PG-13  165333180.0\n",
       "tt0295178         PG-13  296938801.0\n",
       "tt0295297            PG  876688482.0\n",
       "tt0295701         PG-13  277448382.0\n",
       "tt0295732             R          0.0\n",
       "tt0297162         PG-13   19233280.0\n",
       "tt0304669             G  172842355.0\n",
       "tt0325655             R    1766761.0\n",
       "tt0338450             R          0.0\n",
       "tt0347791            NR   20867919.0\n",
       "tt0420138         PG-13          0.0\n",
       "tt0997084         PG-13   13107237.0"
      ]
     },
     "execution_count": 10,
     "metadata": {},
     "output_type": "execute_result"
    }
   ],
   "source": [
    "cols_used = ['certification','revenue']\n",
    "df[cols_used]"
   ]
  },
  {
   "cell_type": "code",
   "execution_count": 11,
   "id": "5094328c-59f1-4451-ab73-71574410c8e3",
   "metadata": {},
   "outputs": [
    {
     "data": {
      "text/plain": [
       "dict_keys(['PG-13', 'PG', 'G', 'R', 'NR'])"
      ]
     },
     "execution_count": 11,
     "metadata": {},
     "output_type": "execute_result"
    }
   ],
   "source": [
    "## Create a dictionary\n",
    "groups ={}\n",
    "\n",
    "for certification in df['certification'].unique():\n",
    "    temp = df.loc[df['certification']== certification, 'revenue']\n",
    "    groups[certification] = temp\n",
    "\n",
    "groups.keys()"
   ]
  },
  {
   "cell_type": "code",
   "execution_count": 12,
   "id": "57fad227-4661-41fc-9acf-e0e39e92da2d",
   "metadata": {},
   "outputs": [
    {
     "name": "stdout",
     "output_type": "stream",
     "text": [
      "There were 0 outliers in the PG-13 group.\n",
      "There were 0 outliers in the PG group.\n",
      "There were 0 outliers in the G group.\n",
      "There were 0 outliers in the R group.\n",
      "There were 0 outliers in the NR group.\n"
     ]
    }
   ],
   "source": [
    "## Loop through groups dict\n",
    "for certification, data in groups.items():\n",
    "\n",
    "    ## determine if there are any outliers\n",
    "    outliers = np.abs(stats.zscore(data)) > 3\n",
    "    \n",
    "    ## print a statement about how many outliers for which group name\n",
    "    print(f\"There were {outliers.sum()} outliers in the {certification} group.\")\n",
    "\n",
    "    ## Remove the outiers from data and overwrite the sector data in the dict\n",
    "    data = data.loc[~outliers]\n",
    "    groups[certification] = data"
   ]
  },
  {
   "cell_type": "markdown",
   "id": "f7487c97-bae7-45f9-8988-de296bb0c6f3",
   "metadata": {},
   "source": [
    "No outliers. Normality and equal variance."
   ]
  },
  {
   "cell_type": "code",
   "execution_count": 13,
   "id": "9de563fc-7443-4279-b5f2-66c2ad000066",
   "metadata": {},
   "outputs": [
    {
     "name": "stderr",
     "output_type": "stream",
     "text": [
      "C:\\Users\\benja\\anaconda3\\envs\\dojo-env\\lib\\site-packages\\scipy\\stats\\_stats_py.py:1736: UserWarning: kurtosistest only valid for n>=20 ... continuing anyway, n=17\n",
      "  warnings.warn(\"kurtosistest only valid for n>=20 ... continuing \"\n",
      "C:\\Users\\benja\\anaconda3\\envs\\dojo-env\\lib\\site-packages\\scipy\\stats\\_stats_py.py:1736: UserWarning: kurtosistest only valid for n>=20 ... continuing anyway, n=9\n",
      "  warnings.warn(\"kurtosistest only valid for n>=20 ... continuing \"\n"
     ]
    },
    {
     "ename": "ValueError",
     "evalue": "skewtest is not valid with less than 8 samples; 5 samples were given.",
     "output_type": "error",
     "traceback": [
      "\u001b[1;31m---------------------------------------------------------------------------\u001b[0m",
      "\u001b[1;31mValueError\u001b[0m                                Traceback (most recent call last)",
      "Cell \u001b[1;32mIn[13], line 10\u001b[0m\n\u001b[0;32m      7\u001b[0m \u001b[38;5;66;03m## loop through group dict\u001b[39;00m\n\u001b[0;32m      8\u001b[0m \u001b[38;5;28;01mfor\u001b[39;00m certification, data \u001b[38;5;129;01min\u001b[39;00m groups\u001b[38;5;241m.\u001b[39mitems():\n\u001b[0;32m      9\u001b[0m     \u001b[38;5;66;03m## calculate normaltest results\u001b[39;00m\n\u001b[1;32m---> 10\u001b[0m     stat, p \u001b[38;5;241m=\u001b[39m \u001b[43mstats\u001b[49m\u001b[38;5;241;43m.\u001b[39;49m\u001b[43mnormaltest\u001b[49m\u001b[43m(\u001b[49m\u001b[43mdata\u001b[49m\u001b[43m)\u001b[49m\n\u001b[0;32m     12\u001b[0m     \u001b[38;5;66;03m## Append the right info into norm_resutls (as a list)\u001b[39;00m\n\u001b[0;32m     13\u001b[0m     norm_results\u001b[38;5;241m.\u001b[39mappend([certification,\u001b[38;5;28mlen\u001b[39m(data), p, p\u001b[38;5;241m<\u001b[39m\u001b[38;5;241m.05\u001b[39m])\n",
      "File \u001b[1;32m~\\anaconda3\\envs\\dojo-env\\lib\\site-packages\\scipy\\stats\\_stats_py.py:1833\u001b[0m, in \u001b[0;36mnormaltest\u001b[1;34m(a, axis, nan_policy)\u001b[0m\n\u001b[0;32m   1830\u001b[0m     a \u001b[38;5;241m=\u001b[39m ma\u001b[38;5;241m.\u001b[39mmasked_invalid(a)\n\u001b[0;32m   1831\u001b[0m     \u001b[38;5;28;01mreturn\u001b[39;00m mstats_basic\u001b[38;5;241m.\u001b[39mnormaltest(a, axis)\n\u001b[1;32m-> 1833\u001b[0m s, _ \u001b[38;5;241m=\u001b[39m \u001b[43mskewtest\u001b[49m\u001b[43m(\u001b[49m\u001b[43ma\u001b[49m\u001b[43m,\u001b[49m\u001b[43m \u001b[49m\u001b[43maxis\u001b[49m\u001b[43m)\u001b[49m\n\u001b[0;32m   1834\u001b[0m k, _ \u001b[38;5;241m=\u001b[39m kurtosistest(a, axis)\n\u001b[0;32m   1835\u001b[0m k2 \u001b[38;5;241m=\u001b[39m s\u001b[38;5;241m*\u001b[39ms \u001b[38;5;241m+\u001b[39m k\u001b[38;5;241m*\u001b[39mk\n",
      "File \u001b[1;32m~\\anaconda3\\envs\\dojo-env\\lib\\site-packages\\scipy\\stats\\_stats_py.py:1636\u001b[0m, in \u001b[0;36mskewtest\u001b[1;34m(a, axis, nan_policy, alternative)\u001b[0m\n\u001b[0;32m   1634\u001b[0m n \u001b[38;5;241m=\u001b[39m a\u001b[38;5;241m.\u001b[39mshape[axis]\n\u001b[0;32m   1635\u001b[0m \u001b[38;5;28;01mif\u001b[39;00m n \u001b[38;5;241m<\u001b[39m \u001b[38;5;241m8\u001b[39m:\n\u001b[1;32m-> 1636\u001b[0m     \u001b[38;5;28;01mraise\u001b[39;00m \u001b[38;5;167;01mValueError\u001b[39;00m(\n\u001b[0;32m   1637\u001b[0m         \u001b[38;5;124m\"\u001b[39m\u001b[38;5;124mskewtest is not valid with less than 8 samples; \u001b[39m\u001b[38;5;132;01m%i\u001b[39;00m\u001b[38;5;124m samples\u001b[39m\u001b[38;5;124m\"\u001b[39m\n\u001b[0;32m   1638\u001b[0m         \u001b[38;5;124m\"\u001b[39m\u001b[38;5;124m were given.\u001b[39m\u001b[38;5;124m\"\u001b[39m \u001b[38;5;241m%\u001b[39m \u001b[38;5;28mint\u001b[39m(n))\n\u001b[0;32m   1639\u001b[0m y \u001b[38;5;241m=\u001b[39m b2 \u001b[38;5;241m*\u001b[39m math\u001b[38;5;241m.\u001b[39msqrt(((n \u001b[38;5;241m+\u001b[39m \u001b[38;5;241m1\u001b[39m) \u001b[38;5;241m*\u001b[39m (n \u001b[38;5;241m+\u001b[39m \u001b[38;5;241m3\u001b[39m)) \u001b[38;5;241m/\u001b[39m (\u001b[38;5;241m6.0\u001b[39m \u001b[38;5;241m*\u001b[39m (n \u001b[38;5;241m-\u001b[39m \u001b[38;5;241m2\u001b[39m)))\n\u001b[0;32m   1640\u001b[0m beta2 \u001b[38;5;241m=\u001b[39m (\u001b[38;5;241m3.0\u001b[39m \u001b[38;5;241m*\u001b[39m (n\u001b[38;5;241m*\u001b[39m\u001b[38;5;241m*\u001b[39m\u001b[38;5;241m2\u001b[39m \u001b[38;5;241m+\u001b[39m \u001b[38;5;241m27\u001b[39m\u001b[38;5;241m*\u001b[39mn \u001b[38;5;241m-\u001b[39m \u001b[38;5;241m70\u001b[39m) \u001b[38;5;241m*\u001b[39m (n\u001b[38;5;241m+\u001b[39m\u001b[38;5;241m1\u001b[39m) \u001b[38;5;241m*\u001b[39m (n\u001b[38;5;241m+\u001b[39m\u001b[38;5;241m3\u001b[39m) \u001b[38;5;241m/\u001b[39m\n\u001b[0;32m   1641\u001b[0m          ((n\u001b[38;5;241m-\u001b[39m\u001b[38;5;241m2.0\u001b[39m) \u001b[38;5;241m*\u001b[39m (n\u001b[38;5;241m+\u001b[39m\u001b[38;5;241m5\u001b[39m) \u001b[38;5;241m*\u001b[39m (n\u001b[38;5;241m+\u001b[39m\u001b[38;5;241m7\u001b[39m) \u001b[38;5;241m*\u001b[39m (n\u001b[38;5;241m+\u001b[39m\u001b[38;5;241m9\u001b[39m)))\n",
      "\u001b[1;31mValueError\u001b[0m: skewtest is not valid with less than 8 samples; 5 samples were given."
     ]
    }
   ],
   "source": [
    "## Running normal test on each group and confirming there are >20 in each group\n",
    "\n",
    "## Save a list with an inner list of column names\n",
    "norm_results = [['group','n','pval','sig?']]\n",
    "\n",
    "\n",
    "## loop through group dict\n",
    "for certification, data in groups.items():\n",
    "    ## calculate normaltest results\n",
    "    stat, p = stats.normaltest(data)\n",
    "    \n",
    "    ## Append the right info into norm_resutls (as a list)\n",
    "    norm_results.append([certification,len(data), p, p<.05])\n",
    "    \n",
    "    \n",
    "## Make norm_results a dataframe (first row is columns, everything else data)\n",
    "normal_results = pd.DataFrame(norm_results[1:], columns = norm_results[0])\n",
    "normal_results"
   ]
  },
  {
   "cell_type": "code",
   "execution_count": 14,
   "id": "60b9bcf9-b084-4fd5-8432-f507aeec4713",
   "metadata": {},
   "outputs": [
    {
     "name": "stdout",
     "output_type": "stream",
     "text": [
      "LeveneResult(statistic=2.656521113560497, pvalue=0.048030578357879314)\n"
     ]
    }
   ],
   "source": [
    "## Levene's test for equal variance\n",
    "result = stats.levene(*groups.values())\n",
    "print(result)"
   ]
  },
  {
   "cell_type": "code",
   "execution_count": 15,
   "id": "e792f676-809e-43c7-8949-599eaeffe7ba",
   "metadata": {},
   "outputs": [
    {
     "name": "stdout",
     "output_type": "stream",
     "text": [
      "The groups do NOT have equal variance.\n"
     ]
    }
   ],
   "source": [
    "if result.pvalue < .05:\n",
    "    print(f\"The groups do NOT have equal variance.\")\n",
    "else:\n",
    "    print(f\"The groups DO have equal variance.\")"
   ]
  },
  {
   "cell_type": "code",
   "execution_count": 16,
   "id": "915f5941-398f-44d9-8e8f-1e3fec0fc8fa",
   "metadata": {},
   "outputs": [
    {
     "name": "stdout",
     "output_type": "stream",
     "text": [
      "KruskalResult(statistic=14.631104728203866, pvalue=0.0055307888533712045)\n"
     ]
    },
    {
     "data": {
      "text/plain": [
       "True"
      ]
     },
     "execution_count": 16,
     "metadata": {},
     "output_type": "execute_result"
    }
   ],
   "source": [
    "## Running Krukal Test for Original Hypothesis\n",
    "result = stats.kruskal(*groups.values())\n",
    "print(result)\n",
    "result.pvalue<.05"
   ]
  },
  {
   "cell_type": "markdown",
   "id": "dd904cdd-1897-4d6c-9fa1-698ebce34bb5",
   "metadata": {},
   "source": [
    "Post-hoc multiple comparison tests"
   ]
  },
  {
   "cell_type": "code",
   "execution_count": 17,
   "id": "b3f1bae2-be9b-4052-86f2-3682f371fda4",
   "metadata": {},
   "outputs": [
    {
     "data": {
      "text/plain": [
       "imdb_id\n",
       "tt0198781    579700000.0\n",
       "tt0287635     28023563.0\n",
       "tt0243585    170000000.0\n",
       "tt0257778            0.0\n",
       "tt0304669    172842355.0\n",
       "Name: revenue, dtype: float64"
      ]
     },
     "execution_count": 17,
     "metadata": {},
     "output_type": "execute_result"
    }
   ],
   "source": [
    "## slice a test sector\n",
    "temp = groups['G']\n",
    "temp"
   ]
  },
  {
   "cell_type": "code",
   "execution_count": 18,
   "id": "3211ea03-44ce-4ffa-b4f9-cbffb760e4fb",
   "metadata": {},
   "outputs": [
    {
     "data": {
      "text/html": [
       "<div>\n",
       "<style scoped>\n",
       "    .dataframe tbody tr th:only-of-type {\n",
       "        vertical-align: middle;\n",
       "    }\n",
       "\n",
       "    .dataframe tbody tr th {\n",
       "        vertical-align: top;\n",
       "    }\n",
       "\n",
       "    .dataframe thead th {\n",
       "        text-align: right;\n",
       "    }\n",
       "</style>\n",
       "<table border=\"1\" class=\"dataframe\">\n",
       "  <thead>\n",
       "    <tr style=\"text-align: right;\">\n",
       "      <th></th>\n",
       "      <th>revenue</th>\n",
       "      <th>certification</th>\n",
       "    </tr>\n",
       "    <tr>\n",
       "      <th>imdb_id</th>\n",
       "      <th></th>\n",
       "      <th></th>\n",
       "    </tr>\n",
       "  </thead>\n",
       "  <tbody>\n",
       "    <tr>\n",
       "      <th>tt0198781</th>\n",
       "      <td>579700000.0</td>\n",
       "      <td>G</td>\n",
       "    </tr>\n",
       "    <tr>\n",
       "      <th>tt0287635</th>\n",
       "      <td>28023563.0</td>\n",
       "      <td>G</td>\n",
       "    </tr>\n",
       "    <tr>\n",
       "      <th>tt0243585</th>\n",
       "      <td>170000000.0</td>\n",
       "      <td>G</td>\n",
       "    </tr>\n",
       "    <tr>\n",
       "      <th>tt0257778</th>\n",
       "      <td>0.0</td>\n",
       "      <td>G</td>\n",
       "    </tr>\n",
       "    <tr>\n",
       "      <th>tt0304669</th>\n",
       "      <td>172842355.0</td>\n",
       "      <td>G</td>\n",
       "    </tr>\n",
       "  </tbody>\n",
       "</table>\n",
       "</div>"
      ],
      "text/plain": [
       "               revenue certification\n",
       "imdb_id                             \n",
       "tt0198781  579700000.0             G\n",
       "tt0287635   28023563.0             G\n",
       "tt0243585  170000000.0             G\n",
       "tt0257778          0.0             G\n",
       "tt0304669  172842355.0             G"
      ]
     },
     "execution_count": 18,
     "metadata": {},
     "output_type": "execute_result"
    }
   ],
   "source": [
    "## test a dataframe \n",
    "pd.DataFrame({'revenue':temp, 'certification':'G'})"
   ]
  },
  {
   "cell_type": "code",
   "execution_count": 19,
   "id": "dd62be7f-ebb7-4b44-a87a-354cfd20cf37",
   "metadata": {},
   "outputs": [
    {
     "data": {
      "text/html": [
       "<div>\n",
       "<style scoped>\n",
       "    .dataframe tbody tr th:only-of-type {\n",
       "        vertical-align: middle;\n",
       "    }\n",
       "\n",
       "    .dataframe tbody tr th {\n",
       "        vertical-align: top;\n",
       "    }\n",
       "\n",
       "    .dataframe thead th {\n",
       "        text-align: right;\n",
       "    }\n",
       "</style>\n",
       "<table border=\"1\" class=\"dataframe\">\n",
       "  <thead>\n",
       "    <tr style=\"text-align: right;\">\n",
       "      <th></th>\n",
       "      <th>revenue</th>\n",
       "      <th>certification</th>\n",
       "    </tr>\n",
       "    <tr>\n",
       "      <th>imdb_id</th>\n",
       "      <th></th>\n",
       "      <th></th>\n",
       "    </tr>\n",
       "  </thead>\n",
       "  <tbody>\n",
       "    <tr>\n",
       "      <th>tt0120737</th>\n",
       "      <td>871368364.0</td>\n",
       "      <td>PG-13</td>\n",
       "    </tr>\n",
       "    <tr>\n",
       "      <th>tt0221218</th>\n",
       "      <td>23619609.0</td>\n",
       "      <td>PG-13</td>\n",
       "    </tr>\n",
       "    <tr>\n",
       "      <th>tt0232500</th>\n",
       "      <td>207283925.0</td>\n",
       "      <td>PG-13</td>\n",
       "    </tr>\n",
       "    <tr>\n",
       "      <th>tt0240772</th>\n",
       "      <td>450717150.0</td>\n",
       "      <td>PG-13</td>\n",
       "    </tr>\n",
       "    <tr>\n",
       "      <th>tt0265171</th>\n",
       "      <td>0.0</td>\n",
       "      <td>PG-13</td>\n",
       "    </tr>\n",
       "    <tr>\n",
       "      <th>tt1073223</th>\n",
       "      <td>0.0</td>\n",
       "      <td>PG-13</td>\n",
       "    </tr>\n",
       "    <tr>\n",
       "      <th>tt0120912</th>\n",
       "      <td>445135288.0</td>\n",
       "      <td>PG-13</td>\n",
       "    </tr>\n",
       "    <tr>\n",
       "      <th>tt0167261</th>\n",
       "      <td>926287400.0</td>\n",
       "      <td>PG-13</td>\n",
       "    </tr>\n",
       "    <tr>\n",
       "      <th>tt0246460</th>\n",
       "      <td>431971116.0</td>\n",
       "      <td>PG-13</td>\n",
       "    </tr>\n",
       "    <tr>\n",
       "      <th>tt0253754</th>\n",
       "      <td>67312826.0</td>\n",
       "      <td>PG-13</td>\n",
       "    </tr>\n",
       "    <tr>\n",
       "      <th>tt0258463</th>\n",
       "      <td>214034224.0</td>\n",
       "      <td>PG-13</td>\n",
       "    </tr>\n",
       "    <tr>\n",
       "      <th>tt0277296</th>\n",
       "      <td>165333180.0</td>\n",
       "      <td>PG-13</td>\n",
       "    </tr>\n",
       "    <tr>\n",
       "      <th>tt0295178</th>\n",
       "      <td>296938801.0</td>\n",
       "      <td>PG-13</td>\n",
       "    </tr>\n",
       "    <tr>\n",
       "      <th>tt0295701</th>\n",
       "      <td>277448382.0</td>\n",
       "      <td>PG-13</td>\n",
       "    </tr>\n",
       "    <tr>\n",
       "      <th>tt0297162</th>\n",
       "      <td>19233280.0</td>\n",
       "      <td>PG-13</td>\n",
       "    </tr>\n",
       "    <tr>\n",
       "      <th>tt0420138</th>\n",
       "      <td>0.0</td>\n",
       "      <td>PG-13</td>\n",
       "    </tr>\n",
       "    <tr>\n",
       "      <th>tt0997084</th>\n",
       "      <td>13107237.0</td>\n",
       "      <td>PG-13</td>\n",
       "    </tr>\n",
       "    <tr>\n",
       "      <th>tt0126029</th>\n",
       "      <td>487900000.0</td>\n",
       "      <td>PG</td>\n",
       "    </tr>\n",
       "    <tr>\n",
       "      <th>tt0230011</th>\n",
       "      <td>186053725.0</td>\n",
       "      <td>PG</td>\n",
       "    </tr>\n",
       "    <tr>\n",
       "      <th>tt0239395</th>\n",
       "      <td>93375151.0</td>\n",
       "      <td>PG</td>\n",
       "    </tr>\n",
       "    <tr>\n",
       "      <th>tt0241527</th>\n",
       "      <td>976475550.0</td>\n",
       "      <td>PG</td>\n",
       "    </tr>\n",
       "    <tr>\n",
       "      <th>tt0145487</th>\n",
       "      <td>821708551.0</td>\n",
       "      <td>PG</td>\n",
       "    </tr>\n",
       "    <tr>\n",
       "      <th>tt0267913</th>\n",
       "      <td>275650703.0</td>\n",
       "      <td>PG</td>\n",
       "    </tr>\n",
       "    <tr>\n",
       "      <th>tt0268380</th>\n",
       "      <td>383257136.0</td>\n",
       "      <td>PG</td>\n",
       "    </tr>\n",
       "    <tr>\n",
       "      <th>tt0275847</th>\n",
       "      <td>273144151.0</td>\n",
       "      <td>PG</td>\n",
       "    </tr>\n",
       "    <tr>\n",
       "      <th>tt0295297</th>\n",
       "      <td>876688482.0</td>\n",
       "      <td>PG</td>\n",
       "    </tr>\n",
       "    <tr>\n",
       "      <th>tt0198781</th>\n",
       "      <td>579700000.0</td>\n",
       "      <td>G</td>\n",
       "    </tr>\n",
       "    <tr>\n",
       "      <th>tt0287635</th>\n",
       "      <td>28023563.0</td>\n",
       "      <td>G</td>\n",
       "    </tr>\n",
       "    <tr>\n",
       "      <th>tt0243585</th>\n",
       "      <td>170000000.0</td>\n",
       "      <td>G</td>\n",
       "    </tr>\n",
       "    <tr>\n",
       "      <th>tt0257778</th>\n",
       "      <td>0.0</td>\n",
       "      <td>G</td>\n",
       "    </tr>\n",
       "    <tr>\n",
       "      <th>tt0304669</th>\n",
       "      <td>172842355.0</td>\n",
       "      <td>G</td>\n",
       "    </tr>\n",
       "    <tr>\n",
       "      <th>tt0247745</th>\n",
       "      <td>18492362.0</td>\n",
       "      <td>R</td>\n",
       "    </tr>\n",
       "    <tr>\n",
       "      <th>tt0261392</th>\n",
       "      <td>33788161.0</td>\n",
       "      <td>R</td>\n",
       "    </tr>\n",
       "    <tr>\n",
       "      <th>tt0263488</th>\n",
       "      <td>59217789.0</td>\n",
       "      <td>R</td>\n",
       "    </tr>\n",
       "    <tr>\n",
       "      <th>tt0120804</th>\n",
       "      <td>103000000.0</td>\n",
       "      <td>R</td>\n",
       "    </tr>\n",
       "    <tr>\n",
       "      <th>tt0187738</th>\n",
       "      <td>155010032.0</td>\n",
       "      <td>R</td>\n",
       "    </tr>\n",
       "    <tr>\n",
       "      <th>tt0246677</th>\n",
       "      <td>0.0</td>\n",
       "      <td>R</td>\n",
       "    </tr>\n",
       "    <tr>\n",
       "      <th>tt0295732</th>\n",
       "      <td>0.0</td>\n",
       "      <td>R</td>\n",
       "    </tr>\n",
       "    <tr>\n",
       "      <th>tt0325655</th>\n",
       "      <td>1766761.0</td>\n",
       "      <td>R</td>\n",
       "    </tr>\n",
       "    <tr>\n",
       "      <th>tt0338450</th>\n",
       "      <td>0.0</td>\n",
       "      <td>R</td>\n",
       "    </tr>\n",
       "    <tr>\n",
       "      <th>tt0313159</th>\n",
       "      <td>0.0</td>\n",
       "      <td>NR</td>\n",
       "    </tr>\n",
       "    <tr>\n",
       "      <th>tt0347791</th>\n",
       "      <td>20867919.0</td>\n",
       "      <td>NR</td>\n",
       "    </tr>\n",
       "  </tbody>\n",
       "</table>\n",
       "</div>"
      ],
      "text/plain": [
       "               revenue certification\n",
       "imdb_id                             \n",
       "tt0120737  871368364.0         PG-13\n",
       "tt0221218   23619609.0         PG-13\n",
       "tt0232500  207283925.0         PG-13\n",
       "tt0240772  450717150.0         PG-13\n",
       "tt0265171          0.0         PG-13\n",
       "tt1073223          0.0         PG-13\n",
       "tt0120912  445135288.0         PG-13\n",
       "tt0167261  926287400.0         PG-13\n",
       "tt0246460  431971116.0         PG-13\n",
       "tt0253754   67312826.0         PG-13\n",
       "tt0258463  214034224.0         PG-13\n",
       "tt0277296  165333180.0         PG-13\n",
       "tt0295178  296938801.0         PG-13\n",
       "tt0295701  277448382.0         PG-13\n",
       "tt0297162   19233280.0         PG-13\n",
       "tt0420138          0.0         PG-13\n",
       "tt0997084   13107237.0         PG-13\n",
       "tt0126029  487900000.0            PG\n",
       "tt0230011  186053725.0            PG\n",
       "tt0239395   93375151.0            PG\n",
       "tt0241527  976475550.0            PG\n",
       "tt0145487  821708551.0            PG\n",
       "tt0267913  275650703.0            PG\n",
       "tt0268380  383257136.0            PG\n",
       "tt0275847  273144151.0            PG\n",
       "tt0295297  876688482.0            PG\n",
       "tt0198781  579700000.0             G\n",
       "tt0287635   28023563.0             G\n",
       "tt0243585  170000000.0             G\n",
       "tt0257778          0.0             G\n",
       "tt0304669  172842355.0             G\n",
       "tt0247745   18492362.0             R\n",
       "tt0261392   33788161.0             R\n",
       "tt0263488   59217789.0             R\n",
       "tt0120804  103000000.0             R\n",
       "tt0187738  155010032.0             R\n",
       "tt0246677          0.0             R\n",
       "tt0295732          0.0             R\n",
       "tt0325655    1766761.0             R\n",
       "tt0338450          0.0             R\n",
       "tt0313159          0.0            NR\n",
       "tt0347791   20867919.0            NR"
      ]
     },
     "execution_count": 19,
     "metadata": {},
     "output_type": "execute_result"
    }
   ],
   "source": [
    "## make a list for saving the dataframes to\n",
    "tukeys_dfs = []\n",
    "\n",
    "## Loop through groups dict's items\n",
    "for certification, temp in groups.items():\n",
    "    \n",
    "    ## make a temp_df with the data and the sector name\n",
    "    temp_df = pd.DataFrame({'revenue':temp, 'certification':certification})\n",
    "    \n",
    "    ## append to tukeys_dfs\n",
    "    tukeys_dfs.append(temp_df)\n",
    "    \n",
    "## concatenate them into 1 dataframe    \n",
    "tukeys_data = pd.concat(tukeys_dfs)\n",
    "tukeys_data"
   ]
  },
  {
   "cell_type": "code",
   "execution_count": 20,
   "id": "7158f1de-4a4a-447f-a4ae-d4925503bbd1",
   "metadata": {},
   "outputs": [
    {
     "data": {
      "text/html": [
       "<table class=\"simpletable\">\n",
       "<caption>Multiple Comparison of Means - Tukey HSD, FWER=0.05</caption>\n",
       "<tr>\n",
       "  <th>group1</th> <th>group2</th>    <th>meandiff</th>      <th>p-adj</th>      <th>lower</th>           <th>upper</th>      <th>reject</th>\n",
       "</tr>\n",
       "<tr>\n",
       "     <td>G</td>     <td>NR</td>    <td>-179679224.1</td>   <td>0.9174</td> <td>-795345707.0298</td> <td>435987258.8298</td>   <td>False</td>\n",
       "</tr>\n",
       "<tr>\n",
       "     <td>G</td>     <td>PG</td>     <td>295914977.4</td>   <td>0.2558</td> <td>-114529344.5532</td> <td>706359299.3532</td>   <td>False</td>\n",
       "</tr>\n",
       "<tr>\n",
       "     <td>G</td>    <td>PG-13</td>  <td>69286274.1647</td>  <td>0.9836</td> <td>-305081423.5833</td> <td>443653971.9127</td>   <td>False</td>\n",
       "</tr>\n",
       "<tr>\n",
       "     <td>G</td>      <td>R</td>   <td>-148860394.1556</td> <td>0.8352</td> <td>-559304716.1088</td> <td>261583927.7977</td>   <td>False</td>\n",
       "</tr>\n",
       "<tr>\n",
       "    <td>NR</td>     <td>PG</td>     <td>475594201.5</td>   <td>0.1464</td> <td>-99655737.2937</td>  <td>1050844140.2937</td>  <td>False</td>\n",
       "</tr>\n",
       "<tr>\n",
       "    <td>NR</td>    <td>PG-13</td> <td>248965498.2647</td>  <td>0.6943</td> <td>-301124606.8778</td> <td>799055603.4072</td>   <td>False</td>\n",
       "</tr>\n",
       "<tr>\n",
       "    <td>NR</td>      <td>R</td>    <td>30818829.9444</td>  <td>0.9999</td> <td>-544431108.8492</td> <td>606068768.7381</td>   <td>False</td>\n",
       "</tr>\n",
       "<tr>\n",
       "    <td>PG</td>    <td>PG-13</td> <td>-226628703.2353</td> <td>0.2246</td> <td>-529974128.4457</td>  <td>76716721.9751</td>   <td>False</td>\n",
       "</tr>\n",
       "<tr>\n",
       "    <td>PG</td>      <td>R</td>   <td>-444775371.5556</td> <td>0.0063</td> <td>-791664136.5835</td> <td>-97886606.5276</td>   <td>True</td> \n",
       "</tr>\n",
       "<tr>\n",
       "   <td>PG-13</td>    <td>R</td>   <td>-218146668.3203</td> <td>0.2581</td> <td>-521492093.5307</td>  <td>85198756.8902</td>   <td>False</td>\n",
       "</tr>\n",
       "</table>"
      ],
      "text/latex": [
       "\\begin{center}\n",
       "\\begin{tabular}{ccccccc}\n",
       "\\toprule\n",
       "\\textbf{group1} & \\textbf{group2} & \\textbf{meandiff} & \\textbf{p-adj} &  \\textbf{lower} &  \\textbf{upper} & \\textbf{reject}  \\\\\n",
       "\\midrule\n",
       "       G        &        NR       &    -179679224.1   &     0.9174     & -795345707.0298 &  435987258.8298 &      False       \\\\\n",
       "       G        &        PG       &    295914977.4    &     0.2558     & -114529344.5532 &  706359299.3532 &      False       \\\\\n",
       "       G        &      PG-13      &   69286274.1647   &     0.9836     & -305081423.5833 &  443653971.9127 &      False       \\\\\n",
       "       G        &        R        &  -148860394.1556  &     0.8352     & -559304716.1088 &  261583927.7977 &      False       \\\\\n",
       "       NR       &        PG       &    475594201.5    &     0.1464     &  -99655737.2937 & 1050844140.2937 &      False       \\\\\n",
       "       NR       &      PG-13      &   248965498.2647  &     0.6943     & -301124606.8778 &  799055603.4072 &      False       \\\\\n",
       "       NR       &        R        &   30818829.9444   &     0.9999     & -544431108.8492 &  606068768.7381 &      False       \\\\\n",
       "       PG       &      PG-13      &  -226628703.2353  &     0.2246     & -529974128.4457 &  76716721.9751  &      False       \\\\\n",
       "       PG       &        R        &  -444775371.5556  &     0.0063     & -791664136.5835 &  -97886606.5276 &       True       \\\\\n",
       "     PG-13      &        R        &  -218146668.3203  &     0.2581     & -521492093.5307 &  85198756.8902  &      False       \\\\\n",
       "\\bottomrule\n",
       "\\end{tabular}\n",
       "%\\caption{Multiple Comparison of Means - Tukey HSD, FWER=0.05}\n",
       "\\end{center}"
      ],
      "text/plain": [
       "<class 'statsmodels.iolib.table.SimpleTable'>"
      ]
     },
     "execution_count": 20,
     "metadata": {},
     "output_type": "execute_result"
    }
   ],
   "source": [
    "## save the values \n",
    "values = tukeys_data['revenue']\n",
    "labels = tukeys_data['certification']\n",
    "\n",
    "## perform tukey's multiple comparison test and display the summary\n",
    "tukeys_results = pairwise_tukeyhsd(values,labels)\n",
    "tukeys_results.summary()"
   ]
  },
  {
   "cell_type": "code",
   "execution_count": 21,
   "id": "2e5fdf05-4985-4cb3-ab1f-6074df02b7ef",
   "metadata": {},
   "outputs": [
    {
     "name": "stderr",
     "output_type": "stream",
     "text": [
      "C:\\Users\\benja\\AppData\\Local\\Temp\\ipykernel_21144\\2645591382.py:2: FutureWarning: \n",
      "\n",
      "The `ci` parameter is deprecated. Use `errorbar=('ci', 68)` for the same effect.\n",
      "\n",
      "  ax = sns.barplot(data=tukeys_data, x='certification', y='revenue', ci=68)\n"
     ]
    },
    {
     "data": {
      "image/png": "[encoded data removed]",
      "text/plain": [
       "<Figure size 640x480 with 1 Axes>"
      ]
     },
     "metadata": {},
     "output_type": "display_data"
    }
   ],
   "source": [
    "## make a barplot of final data to go with results\n",
    "ax = sns.barplot(data=tukeys_data, x='certification', y='revenue', ci=68)\n",
    "ax.set_xticklabels(ax.get_xticklabels(), rotation='vertical', ha='right');"
   ]
  },
  {
   "cell_type": "code",
   "execution_count": 22,
   "id": "46350850-6cde-4dd2-bf5b-79cb143f2bc5",
   "metadata": {},
   "outputs": [
    {
     "data": {
      "image/png": "[encoded data removed]",
      "text/plain": [
       "<Figure size 1000x600 with 1 Axes>"
      ]
     },
     "metadata": {},
     "output_type": "display_data"
    }
   ],
   "source": [
    "## tukeys_reuslts.plot_simultaneous\n",
    "tukeys_results.plot_simultaneous();"
   ]
  },
  {
   "cell_type": "markdown",
   "id": "46a9f116-858b-4a52-b312-7ee7dcd6389c",
   "metadata": {},
   "source": [
    "Certification does impact revenue."
   ]
  },
  {
   "cell_type": "code",
   "execution_count": 23,
   "id": "18d67b0e-423a-495b-8b12-fa71612070c2",
   "metadata": {},
   "outputs": [
    {
     "data": {
      "image/png": "[encoded data removed]",
      "text/plain": [
       "<Figure size 640x480 with 1 Axes>"
      ]
     },
     "metadata": {},
     "output_type": "display_data"
    }
   ],
   "source": [
    "ax = sns.barplot(data=df, x='budget', y='revenue')\n",
    "ax.set_xticklabels(ax.get_xticklabels(), rotation=90, ha='right');"
   ]
  },
  {
   "cell_type": "code",
   "execution_count": 24,
   "id": "874db523-872e-4fae-aac7-5ccd5857aa3b",
   "metadata": {},
   "outputs": [
    {
     "data": {
      "text/plain": [
       "dict_keys([93000000.0, 60000000.0, 115000000.0, 30000000.0, 120000000.0, 38000000.0, 85000000.0, 125000000.0, 1200000.0, 22000000.0, 10000000.0, 1500000.0, 0.0, 33000000.0, 140000000.0, 139000000.0, 79000000.0, 54000000.0, 11000000.0, 84000000.0, 59000000.0, 80000000.0, 63000000.0, 100000000.0, 70000000.0, 25000000.0, 65000000.0, 10706075.0, 5000000.0])"
      ]
     },
     "execution_count": 24,
     "metadata": {},
     "output_type": "execute_result"
    }
   ],
   "source": [
    "## Create a dictionary with each group as key and funded_amount as values\n",
    "groups ={}\n",
    "\n",
    "for budget in df['budget'].unique():\n",
    "    temp = df.loc[df['budget']== budget, 'revenue']\n",
    "    groups[budget] = temp\n",
    "\n",
    "groups.keys()"
   ]
  },
  {
   "cell_type": "code",
   "execution_count": 26,
   "id": "21d8736d-6e6d-4df9-8d96-8ea722affc08",
   "metadata": {},
   "outputs": [
    {
     "name": "stdout",
     "output_type": "stream",
     "text": [
      "There were 0 outliers in the 93000000.0 group.\n",
      "There were 0 outliers in the 60000000.0 group.\n",
      "There were 0 outliers in the 115000000.0 group.\n",
      "There were 0 outliers in the 30000000.0 group.\n",
      "There were 0 outliers in the 120000000.0 group.\n",
      "There were 0 outliers in the 38000000.0 group.\n",
      "There were 0 outliers in the 85000000.0 group.\n",
      "There were 0 outliers in the 125000000.0 group.\n",
      "There were 0 outliers in the 1200000.0 group.\n",
      "There were 0 outliers in the 22000000.0 group.\n",
      "There were 0 outliers in the 10000000.0 group.\n",
      "There were 0 outliers in the 1500000.0 group.\n",
      "There were 0 outliers in the 0.0 group.\n",
      "There were 0 outliers in the 33000000.0 group.\n",
      "There were 0 outliers in the 140000000.0 group.\n",
      "There were 0 outliers in the 139000000.0 group.\n",
      "There were 0 outliers in the 79000000.0 group.\n",
      "There were 0 outliers in the 54000000.0 group.\n",
      "There were 0 outliers in the 11000000.0 group.\n",
      "There were 0 outliers in the 84000000.0 group.\n",
      "There were 0 outliers in the 59000000.0 group.\n",
      "There were 0 outliers in the 80000000.0 group.\n",
      "There were 0 outliers in the 63000000.0 group.\n",
      "There were 0 outliers in the 100000000.0 group.\n",
      "There were 0 outliers in the 70000000.0 group.\n",
      "There were 0 outliers in the 25000000.0 group.\n",
      "There were 0 outliers in the 65000000.0 group.\n",
      "There were 0 outliers in the 10706075.0 group.\n",
      "There were 0 outliers in the 5000000.0 group.\n"
     ]
    }
   ],
   "source": [
    "## Loop through groups dict\n",
    "for budget, data in groups.items():\n",
    "    ## Determine if there are any outliers\n",
    "    outliers = np.abs(stats.zscore(data)) > 3\n",
    "    \n",
    "    ## Get the sector name (which is the key of the dictionary)\n",
    "    sector = budget\n",
    "    \n",
    "    ## Print a statement about how many outliers for which group name\n",
    "    print(f\"There were {outliers.sum()} outliers in the {sector} group.\")\n",
    "\n",
    "    ## Remove the outliers from data and overwrite the sector data in the dict\n",
    "    data = data.loc[~outliers]\n",
    "    groups[budget] = data"
   ]
  },
  {
   "cell_type": "code",
   "execution_count": 27,
   "id": "0388eca6-3700-416a-9ccc-c718cad5bea7",
   "metadata": {},
   "outputs": [
    {
     "name": "stderr",
     "output_type": "stream",
     "text": [
      "C:\\Users\\benja\\anaconda3\\envs\\dojo-env\\lib\\site-packages\\scipy\\stats\\_stats_py.py:1633: RuntimeWarning: Precision loss occurred in moment calculation due to catastrophic cancellation. This occurs when the data are nearly identical. Results may be unreliable.\n",
      "  b2 = skew(a, axis)\n"
     ]
    },
    {
     "ename": "ValueError",
     "evalue": "skewtest is not valid with less than 8 samples; 1 samples were given.",
     "output_type": "error",
     "traceback": [
      "\u001b[1;31m---------------------------------------------------------------------------\u001b[0m",
      "\u001b[1;31mValueError\u001b[0m                                Traceback (most recent call last)",
      "Cell \u001b[1;32mIn[27], line 10\u001b[0m\n\u001b[0;32m      7\u001b[0m \u001b[38;5;66;03m## loop through group dict\u001b[39;00m\n\u001b[0;32m      8\u001b[0m \u001b[38;5;28;01mfor\u001b[39;00m budget, data \u001b[38;5;129;01min\u001b[39;00m groups\u001b[38;5;241m.\u001b[39mitems():\n\u001b[0;32m      9\u001b[0m     \u001b[38;5;66;03m## calculate normaltest results\u001b[39;00m\n\u001b[1;32m---> 10\u001b[0m     stat, p \u001b[38;5;241m=\u001b[39m \u001b[43mstats\u001b[49m\u001b[38;5;241;43m.\u001b[39;49m\u001b[43mnormaltest\u001b[49m\u001b[43m(\u001b[49m\u001b[43mdata\u001b[49m\u001b[43m)\u001b[49m\n\u001b[0;32m     12\u001b[0m     \u001b[38;5;66;03m## Append the right info into norm_resutls (as a list)\u001b[39;00m\n\u001b[0;32m     13\u001b[0m     norm_results\u001b[38;5;241m.\u001b[39mappend([budget,\u001b[38;5;28mlen\u001b[39m(data), p, p\u001b[38;5;241m<\u001b[39m\u001b[38;5;241m.05\u001b[39m])\n",
      "File \u001b[1;32m~\\anaconda3\\envs\\dojo-env\\lib\\site-packages\\scipy\\stats\\_stats_py.py:1833\u001b[0m, in \u001b[0;36mnormaltest\u001b[1;34m(a, axis, nan_policy)\u001b[0m\n\u001b[0;32m   1830\u001b[0m     a \u001b[38;5;241m=\u001b[39m ma\u001b[38;5;241m.\u001b[39mmasked_invalid(a)\n\u001b[0;32m   1831\u001b[0m     \u001b[38;5;28;01mreturn\u001b[39;00m mstats_basic\u001b[38;5;241m.\u001b[39mnormaltest(a, axis)\n\u001b[1;32m-> 1833\u001b[0m s, _ \u001b[38;5;241m=\u001b[39m \u001b[43mskewtest\u001b[49m\u001b[43m(\u001b[49m\u001b[43ma\u001b[49m\u001b[43m,\u001b[49m\u001b[43m \u001b[49m\u001b[43maxis\u001b[49m\u001b[43m)\u001b[49m\n\u001b[0;32m   1834\u001b[0m k, _ \u001b[38;5;241m=\u001b[39m kurtosistest(a, axis)\n\u001b[0;32m   1835\u001b[0m k2 \u001b[38;5;241m=\u001b[39m s\u001b[38;5;241m*\u001b[39ms \u001b[38;5;241m+\u001b[39m k\u001b[38;5;241m*\u001b[39mk\n",
      "File \u001b[1;32m~\\anaconda3\\envs\\dojo-env\\lib\\site-packages\\scipy\\stats\\_stats_py.py:1636\u001b[0m, in \u001b[0;36mskewtest\u001b[1;34m(a, axis, nan_policy, alternative)\u001b[0m\n\u001b[0;32m   1634\u001b[0m n \u001b[38;5;241m=\u001b[39m a\u001b[38;5;241m.\u001b[39mshape[axis]\n\u001b[0;32m   1635\u001b[0m \u001b[38;5;28;01mif\u001b[39;00m n \u001b[38;5;241m<\u001b[39m \u001b[38;5;241m8\u001b[39m:\n\u001b[1;32m-> 1636\u001b[0m     \u001b[38;5;28;01mraise\u001b[39;00m \u001b[38;5;167;01mValueError\u001b[39;00m(\n\u001b[0;32m   1637\u001b[0m         \u001b[38;5;124m\"\u001b[39m\u001b[38;5;124mskewtest is not valid with less than 8 samples; \u001b[39m\u001b[38;5;132;01m%i\u001b[39;00m\u001b[38;5;124m samples\u001b[39m\u001b[38;5;124m\"\u001b[39m\n\u001b[0;32m   1638\u001b[0m         \u001b[38;5;124m\"\u001b[39m\u001b[38;5;124m were given.\u001b[39m\u001b[38;5;124m\"\u001b[39m \u001b[38;5;241m%\u001b[39m \u001b[38;5;28mint\u001b[39m(n))\n\u001b[0;32m   1639\u001b[0m y \u001b[38;5;241m=\u001b[39m b2 \u001b[38;5;241m*\u001b[39m math\u001b[38;5;241m.\u001b[39msqrt(((n \u001b[38;5;241m+\u001b[39m \u001b[38;5;241m1\u001b[39m) \u001b[38;5;241m*\u001b[39m (n \u001b[38;5;241m+\u001b[39m \u001b[38;5;241m3\u001b[39m)) \u001b[38;5;241m/\u001b[39m (\u001b[38;5;241m6.0\u001b[39m \u001b[38;5;241m*\u001b[39m (n \u001b[38;5;241m-\u001b[39m \u001b[38;5;241m2\u001b[39m)))\n\u001b[0;32m   1640\u001b[0m beta2 \u001b[38;5;241m=\u001b[39m (\u001b[38;5;241m3.0\u001b[39m \u001b[38;5;241m*\u001b[39m (n\u001b[38;5;241m*\u001b[39m\u001b[38;5;241m*\u001b[39m\u001b[38;5;241m2\u001b[39m \u001b[38;5;241m+\u001b[39m \u001b[38;5;241m27\u001b[39m\u001b[38;5;241m*\u001b[39mn \u001b[38;5;241m-\u001b[39m \u001b[38;5;241m70\u001b[39m) \u001b[38;5;241m*\u001b[39m (n\u001b[38;5;241m+\u001b[39m\u001b[38;5;241m1\u001b[39m) \u001b[38;5;241m*\u001b[39m (n\u001b[38;5;241m+\u001b[39m\u001b[38;5;241m3\u001b[39m) \u001b[38;5;241m/\u001b[39m\n\u001b[0;32m   1641\u001b[0m          ((n\u001b[38;5;241m-\u001b[39m\u001b[38;5;241m2.0\u001b[39m) \u001b[38;5;241m*\u001b[39m (n\u001b[38;5;241m+\u001b[39m\u001b[38;5;241m5\u001b[39m) \u001b[38;5;241m*\u001b[39m (n\u001b[38;5;241m+\u001b[39m\u001b[38;5;241m7\u001b[39m) \u001b[38;5;241m*\u001b[39m (n\u001b[38;5;241m+\u001b[39m\u001b[38;5;241m9\u001b[39m)))\n",
      "\u001b[1;31mValueError\u001b[0m: skewtest is not valid with less than 8 samples; 1 samples were given."
     ]
    }
   ],
   "source": [
    "## Running normal test on each group and confirming there are >20 in each group\n",
    "\n",
    "## Save a list with an inner list of column names\n",
    "norm_results = [['group','n','pval','sig?']]\n",
    "\n",
    "\n",
    "## loop through group dict\n",
    "for budget, data in groups.items():\n",
    "    ## calculate normaltest results\n",
    "    stat, p = stats.normaltest(data)\n",
    "    \n",
    "    ## Append the right info into norm_resutls (as a list)\n",
    "    norm_results.append([budget,len(data), p, p<.05])\n",
    "    \n",
    "    \n",
    "## Make norm_results a dataframe (first row is columns, everything else data)\n",
    "normal_results = pd.DataFrame(norm_results[1:], columns = norm_results[0])\n",
    "normal_results"
   ]
  },
  {
   "cell_type": "markdown",
   "id": "326cb970-5c70-4525-b01d-a4130873d9e0",
   "metadata": {},
   "source": [
    "Groups are large enough that we can ignore assumption of normality."
   ]
  },
  {
   "cell_type": "code",
   "execution_count": 28,
   "id": "54cb8b3f-0635-477e-87bf-e1932a19bd90",
   "metadata": {},
   "outputs": [
    {
     "name": "stdout",
     "output_type": "stream",
     "text": [
      "LeveneResult(statistic=0.36366508015532456, pvalue=0.9878814117988909)\n"
     ]
    }
   ],
   "source": [
    "## Use Levene's test for equal variance\n",
    "result = stats.levene(*groups.values())\n",
    "print(result)"
   ]
  },
  {
   "cell_type": "code",
   "execution_count": 29,
   "id": "ad2bf02c-ae07-498c-b2b5-ed0c4a14fb6f",
   "metadata": {},
   "outputs": [
    {
     "name": "stdout",
     "output_type": "stream",
     "text": [
      "The groups DO have equal variance.\n"
     ]
    }
   ],
   "source": [
    "if result.pvalue < .05:\n",
    "    print(f\"The groups do NOT have equal variance.\")\n",
    "else:\n",
    "    print(f\"The groups DO have equal variance.\")"
   ]
  },
  {
   "cell_type": "code",
   "execution_count": 30,
   "id": "c6b21f41-7c26-4ca4-93f2-8f313cbf5653",
   "metadata": {},
   "outputs": [
    {
     "name": "stdout",
     "output_type": "stream",
     "text": [
      "KruskalResult(statistic=38.60884902504692, pvalue=0.08742239717863372)\n"
     ]
    },
    {
     "data": {
      "text/plain": [
       "False"
      ]
     },
     "execution_count": 30,
     "metadata": {},
     "output_type": "execute_result"
    }
   ],
   "source": [
    "## Running Krukal Test for Original Hypothesis\n",
    "result = stats.kruskal(*groups.values())\n",
    "print(result)\n",
    "result.pvalue<.05"
   ]
  },
  {
   "cell_type": "markdown",
   "id": "47a0e59b-88d6-4c48-ad9a-703f29da5c10",
   "metadata": {},
   "source": [
    "P-Value less than .05. Null hypothesis rejected."
   ]
  },
  {
   "cell_type": "markdown",
   "id": "757438fb-1d5b-421c-a538-de6d4859dcc3",
   "metadata": {},
   "source": [
    "Multiple Comparison Test"
   ]
  },
  {
   "cell_type": "code",
   "execution_count": 32,
   "id": "4b69e5f4-d89f-449f-8fa8-4c1841eb18cd",
   "metadata": {},
   "outputs": [
    {
     "data": {
      "text/html": [
       "<div>\n",
       "<style scoped>\n",
       "    .dataframe tbody tr th:only-of-type {\n",
       "        vertical-align: middle;\n",
       "    }\n",
       "\n",
       "    .dataframe tbody tr th {\n",
       "        vertical-align: top;\n",
       "    }\n",
       "\n",
       "    .dataframe thead th {\n",
       "        text-align: right;\n",
       "    }\n",
       "</style>\n",
       "<table border=\"1\" class=\"dataframe\">\n",
       "  <thead>\n",
       "    <tr style=\"text-align: right;\">\n",
       "      <th></th>\n",
       "      <th>budget</th>\n",
       "      <th>revenue</th>\n",
       "    </tr>\n",
       "    <tr>\n",
       "      <th>imdb_id</th>\n",
       "      <th></th>\n",
       "      <th></th>\n",
       "    </tr>\n",
       "  </thead>\n",
       "  <tbody>\n",
       "    <tr>\n",
       "      <th>tt0338450</th>\n",
       "      <td>0.0</td>\n",
       "      <td>165000000.0</td>\n",
       "    </tr>\n",
       "  </tbody>\n",
       "</table>\n",
       "</div>"
      ],
      "text/plain": [
       "           budget      revenue\n",
       "imdb_id                       \n",
       "tt0338450     0.0  165000000.0"
      ]
     },
     "execution_count": 32,
     "metadata": {},
     "output_type": "execute_result"
    }
   ],
   "source": [
    "## test making a datafrae from the test \n",
    "pd.DataFrame({'budget':temp, 'revenue':'165000000.0'})"
   ]
  },
  {
   "cell_type": "code",
   "execution_count": 33,
   "id": "47b7f5bb-f379-4297-9e03-a65df274fc20",
   "metadata": {},
   "outputs": [
    {
     "data": {
      "text/html": [
       "<div>\n",
       "<style scoped>\n",
       "    .dataframe tbody tr th:only-of-type {\n",
       "        vertical-align: middle;\n",
       "    }\n",
       "\n",
       "    .dataframe tbody tr th {\n",
       "        vertical-align: top;\n",
       "    }\n",
       "\n",
       "    .dataframe thead th {\n",
       "        text-align: right;\n",
       "    }\n",
       "</style>\n",
       "<table border=\"1\" class=\"dataframe\">\n",
       "  <thead>\n",
       "    <tr style=\"text-align: right;\">\n",
       "      <th></th>\n",
       "      <th>revenue</th>\n",
       "      <th>budget</th>\n",
       "    </tr>\n",
       "    <tr>\n",
       "      <th>imdb_id</th>\n",
       "      <th></th>\n",
       "      <th></th>\n",
       "    </tr>\n",
       "  </thead>\n",
       "  <tbody>\n",
       "    <tr>\n",
       "      <th>tt0120737</th>\n",
       "      <td>871368364.0</td>\n",
       "      <td>93000000.0</td>\n",
       "    </tr>\n",
       "    <tr>\n",
       "      <th>tt0126029</th>\n",
       "      <td>487900000.0</td>\n",
       "      <td>60000000.0</td>\n",
       "    </tr>\n",
       "    <tr>\n",
       "      <th>tt0239395</th>\n",
       "      <td>93375151.0</td>\n",
       "      <td>60000000.0</td>\n",
       "    </tr>\n",
       "    <tr>\n",
       "      <th>tt0253754</th>\n",
       "      <td>67312826.0</td>\n",
       "      <td>60000000.0</td>\n",
       "    </tr>\n",
       "    <tr>\n",
       "      <th>tt0258463</th>\n",
       "      <td>214034224.0</td>\n",
       "      <td>60000000.0</td>\n",
       "    </tr>\n",
       "    <tr>\n",
       "      <th>tt0277296</th>\n",
       "      <td>165333180.0</td>\n",
       "      <td>60000000.0</td>\n",
       "    </tr>\n",
       "    <tr>\n",
       "      <th>tt0198781</th>\n",
       "      <td>579700000.0</td>\n",
       "      <td>115000000.0</td>\n",
       "    </tr>\n",
       "    <tr>\n",
       "      <th>tt0221218</th>\n",
       "      <td>23619609.0</td>\n",
       "      <td>30000000.0</td>\n",
       "    </tr>\n",
       "    <tr>\n",
       "      <th>tt0230011</th>\n",
       "      <td>186053725.0</td>\n",
       "      <td>120000000.0</td>\n",
       "    </tr>\n",
       "    <tr>\n",
       "      <th>tt0243585</th>\n",
       "      <td>170000000.0</td>\n",
       "      <td>120000000.0</td>\n",
       "    </tr>\n",
       "    <tr>\n",
       "      <th>tt0232500</th>\n",
       "      <td>207283925.0</td>\n",
       "      <td>38000000.0</td>\n",
       "    </tr>\n",
       "    <tr>\n",
       "      <th>tt0240772</th>\n",
       "      <td>450717150.0</td>\n",
       "      <td>85000000.0</td>\n",
       "    </tr>\n",
       "    <tr>\n",
       "      <th>tt0241527</th>\n",
       "      <td>976475550.0</td>\n",
       "      <td>125000000.0</td>\n",
       "    </tr>\n",
       "    <tr>\n",
       "      <th>tt0247745</th>\n",
       "      <td>18492362.0</td>\n",
       "      <td>1200000.0</td>\n",
       "    </tr>\n",
       "    <tr>\n",
       "      <th>tt0261392</th>\n",
       "      <td>33788161.0</td>\n",
       "      <td>22000000.0</td>\n",
       "    </tr>\n",
       "    <tr>\n",
       "      <th>tt0263488</th>\n",
       "      <td>59217789.0</td>\n",
       "      <td>10000000.0</td>\n",
       "    </tr>\n",
       "    <tr>\n",
       "      <th>tt0265171</th>\n",
       "      <td>0.0</td>\n",
       "      <td>1500000.0</td>\n",
       "    </tr>\n",
       "    <tr>\n",
       "      <th>tt0287635</th>\n",
       "      <td>28023563.0</td>\n",
       "      <td>0.0</td>\n",
       "    </tr>\n",
       "    <tr>\n",
       "      <th>tt0313159</th>\n",
       "      <td>0.0</td>\n",
       "      <td>0.0</td>\n",
       "    </tr>\n",
       "    <tr>\n",
       "      <th>tt1073223</th>\n",
       "      <td>0.0</td>\n",
       "      <td>0.0</td>\n",
       "    </tr>\n",
       "    <tr>\n",
       "      <th>tt0257778</th>\n",
       "      <td>0.0</td>\n",
       "      <td>0.0</td>\n",
       "    </tr>\n",
       "    <tr>\n",
       "      <th>tt0295732</th>\n",
       "      <td>0.0</td>\n",
       "      <td>0.0</td>\n",
       "    </tr>\n",
       "    <tr>\n",
       "      <th>tt0347791</th>\n",
       "      <td>20867919.0</td>\n",
       "      <td>0.0</td>\n",
       "    </tr>\n",
       "    <tr>\n",
       "      <th>tt0420138</th>\n",
       "      <td>0.0</td>\n",
       "      <td>0.0</td>\n",
       "    </tr>\n",
       "    <tr>\n",
       "      <th>tt0997084</th>\n",
       "      <td>13107237.0</td>\n",
       "      <td>0.0</td>\n",
       "    </tr>\n",
       "    <tr>\n",
       "      <th>tt0120804</th>\n",
       "      <td>103000000.0</td>\n",
       "      <td>33000000.0</td>\n",
       "    </tr>\n",
       "    <tr>\n",
       "      <th>tt0120912</th>\n",
       "      <td>445135288.0</td>\n",
       "      <td>140000000.0</td>\n",
       "    </tr>\n",
       "    <tr>\n",
       "      <th>tt0246460</th>\n",
       "      <td>431971116.0</td>\n",
       "      <td>140000000.0</td>\n",
       "    </tr>\n",
       "    <tr>\n",
       "      <th>tt0145487</th>\n",
       "      <td>821708551.0</td>\n",
       "      <td>139000000.0</td>\n",
       "    </tr>\n",
       "    <tr>\n",
       "      <th>tt0167261</th>\n",
       "      <td>926287400.0</td>\n",
       "      <td>79000000.0</td>\n",
       "    </tr>\n",
       "    <tr>\n",
       "      <th>tt0187738</th>\n",
       "      <td>155010032.0</td>\n",
       "      <td>54000000.0</td>\n",
       "    </tr>\n",
       "    <tr>\n",
       "      <th>tt0246677</th>\n",
       "      <td>0.0</td>\n",
       "      <td>11000000.0</td>\n",
       "    </tr>\n",
       "    <tr>\n",
       "      <th>tt0267913</th>\n",
       "      <td>275650703.0</td>\n",
       "      <td>84000000.0</td>\n",
       "    </tr>\n",
       "    <tr>\n",
       "      <th>tt0268380</th>\n",
       "      <td>383257136.0</td>\n",
       "      <td>59000000.0</td>\n",
       "    </tr>\n",
       "    <tr>\n",
       "      <th>tt0275847</th>\n",
       "      <td>273144151.0</td>\n",
       "      <td>80000000.0</td>\n",
       "    </tr>\n",
       "    <tr>\n",
       "      <th>tt0295178</th>\n",
       "      <td>296938801.0</td>\n",
       "      <td>63000000.0</td>\n",
       "    </tr>\n",
       "    <tr>\n",
       "      <th>tt0295297</th>\n",
       "      <td>876688482.0</td>\n",
       "      <td>100000000.0</td>\n",
       "    </tr>\n",
       "    <tr>\n",
       "      <th>tt0295701</th>\n",
       "      <td>277448382.0</td>\n",
       "      <td>70000000.0</td>\n",
       "    </tr>\n",
       "    <tr>\n",
       "      <th>tt0297162</th>\n",
       "      <td>19233280.0</td>\n",
       "      <td>25000000.0</td>\n",
       "    </tr>\n",
       "    <tr>\n",
       "      <th>tt0304669</th>\n",
       "      <td>172842355.0</td>\n",
       "      <td>65000000.0</td>\n",
       "    </tr>\n",
       "    <tr>\n",
       "      <th>tt0325655</th>\n",
       "      <td>1766761.0</td>\n",
       "      <td>10706075.0</td>\n",
       "    </tr>\n",
       "    <tr>\n",
       "      <th>tt0338450</th>\n",
       "      <td>0.0</td>\n",
       "      <td>5000000.0</td>\n",
       "    </tr>\n",
       "  </tbody>\n",
       "</table>\n",
       "</div>"
      ],
      "text/plain": [
       "               revenue       budget\n",
       "imdb_id                            \n",
       "tt0120737  871368364.0   93000000.0\n",
       "tt0126029  487900000.0   60000000.0\n",
       "tt0239395   93375151.0   60000000.0\n",
       "tt0253754   67312826.0   60000000.0\n",
       "tt0258463  214034224.0   60000000.0\n",
       "tt0277296  165333180.0   60000000.0\n",
       "tt0198781  579700000.0  115000000.0\n",
       "tt0221218   23619609.0   30000000.0\n",
       "tt0230011  186053725.0  120000000.0\n",
       "tt0243585  170000000.0  120000000.0\n",
       "tt0232500  207283925.0   38000000.0\n",
       "tt0240772  450717150.0   85000000.0\n",
       "tt0241527  976475550.0  125000000.0\n",
       "tt0247745   18492362.0    1200000.0\n",
       "tt0261392   33788161.0   22000000.0\n",
       "tt0263488   59217789.0   10000000.0\n",
       "tt0265171          0.0    1500000.0\n",
       "tt0287635   28023563.0          0.0\n",
       "tt0313159          0.0          0.0\n",
       "tt1073223          0.0          0.0\n",
       "tt0257778          0.0          0.0\n",
       "tt0295732          0.0          0.0\n",
       "tt0347791   20867919.0          0.0\n",
       "tt0420138          0.0          0.0\n",
       "tt0997084   13107237.0          0.0\n",
       "tt0120804  103000000.0   33000000.0\n",
       "tt0120912  445135288.0  140000000.0\n",
       "tt0246460  431971116.0  140000000.0\n",
       "tt0145487  821708551.0  139000000.0\n",
       "tt0167261  926287400.0   79000000.0\n",
       "tt0187738  155010032.0   54000000.0\n",
       "tt0246677          0.0   11000000.0\n",
       "tt0267913  275650703.0   84000000.0\n",
       "tt0268380  383257136.0   59000000.0\n",
       "tt0275847  273144151.0   80000000.0\n",
       "tt0295178  296938801.0   63000000.0\n",
       "tt0295297  876688482.0  100000000.0\n",
       "tt0295701  277448382.0   70000000.0\n",
       "tt0297162   19233280.0   25000000.0\n",
       "tt0304669  172842355.0   65000000.0\n",
       "tt0325655    1766761.0   10706075.0\n",
       "tt0338450          0.0    5000000.0"
      ]
     },
     "execution_count": 33,
     "metadata": {},
     "output_type": "execute_result"
    }
   ],
   "source": [
    "## make a list for saving the dataframes to\n",
    "tukeys_dfs = []\n",
    "\n",
    "## Loop through groups dict's items\n",
    "for budget, temp in groups.items():\n",
    "    \n",
    "    ## make a temp_df with the name\n",
    "    temp_df = pd.DataFrame({'revenue':temp, 'budget':budget})\n",
    "    \n",
    "    ## append to tukeys_dfs\n",
    "    tukeys_dfs.append(temp_df)\n",
    "    \n",
    "## concatenate them into 1 dataframe    \n",
    "tukeys_data = pd.concat(tukeys_dfs)\n",
    "tukeys_data"
   ]
  },
  {
   "cell_type": "code",
   "execution_count": null,
   "id": "7324ca20-7732-4bf2-aa0a-a73a7f4eec7e",
   "metadata": {},
   "outputs": [],
   "source": [
    "## save the values \n",
    "values = tukeys_data['budget']\n",
    "labels = tukeys_data['revenue']\n",
    "\n",
    "## perform tukey's multiple comparison test and display the summary\n",
    "tukeys_results = pairwise_tukeyhsd(values,labels)\n",
    "# Convert the SimpleTable object to a pandas DataFrame\n",
    "limited_summary = pd.DataFrame(summary_table.data[1:], columns=summary_table.data[0])\n",
    "\n",
    "# Display the first 10 rows of the summary\n",
    "print(limited_summary.head(10))"
   ]
  },
  {
   "cell_type": "code",
   "execution_count": null,
   "id": "5357026a-853e-4de5-bc33-d9c10b54033e",
   "metadata": {},
   "outputs": [],
   "source": [
    "## make a barplot of final data to go with results\n",
    "ax = sns.barplot(data=tukeys_data, x='budget', y='revenue', ci=68)\n",
    "ax.set_xticklabels(ax.get_xticklabels(), rotation='vertical', ha='right');"
   ]
  },
  {
   "cell_type": "code",
   "execution_count": null,
   "id": "417fd006-1c74-4128-a287-9ee26b887bae",
   "metadata": {},
   "outputs": [],
   "source": [
    "## Not significantly different\n",
    "tukeys_df[tukeys_df['reject'] ==False]"
   ]
  },
  {
   "cell_type": "code",
   "execution_count": null,
   "id": "5d00117b-bb49-49be-b8ff-ff128734d02f",
   "metadata": {},
   "outputs": [],
   "source": [
    "## tukeys_reuslts.plot_simultaneous\n",
    "tukeys_results.plot_simultaneous();"
   ]
  },
  {
   "cell_type": "markdown",
   "id": "37e1c5c3-77c6-4bc6-b698-882bcd370837",
   "metadata": {},
   "source": [
    "Q: Does rating affect popularity?\n",
    "\n",
    "Null: rating does not affect popularity.\n",
    "Alternative: Rating does affect popularity."
   ]
  },
  {
   "cell_type": "code",
   "execution_count": null,
   "id": "f77f44de-9a5b-4c33-b53a-48c673e576d4",
   "metadata": {},
   "outputs": [],
   "source": [
    "ax = sns.barplot(data=df, x='certification', y='popularity')\n",
    "ax.set_xticklabels(ax.get_xticklabels(), ha='right'"
   ]
  },
  {
   "cell_type": "code",
   "execution_count": null,
   "id": "42642dab-eb62-4c04-b805-f93e48fee74f",
   "metadata": {},
   "outputs": [],
   "source": [
    "called_cols =  ['certification','popularity']\n",
    "df[called_cols]"
   ]
  },
  {
   "cell_type": "code",
   "execution_count": null,
   "id": "92cb0e52-1def-4eaf-9333-a7a34a8699b9",
   "metadata": {},
   "outputs": [],
   "source": [
    "## Create a dictionary\n",
    "groups ={}\n",
    "\n",
    "for certification in df['certification'].unique():\n",
    "    temp = df.loc[df['certification']== certification, 'popularity']\n",
    "    groups[certification] = temp\n",
    "\n",
    "groups.keys()"
   ]
  },
  {
   "cell_type": "code",
   "execution_count": null,
   "id": "279e9250-2ac9-426d-8bff-71cd81721102",
   "metadata": {},
   "outputs": [],
   "source": [
    "## Loop through groups dict\n",
    "for certification, data in groups.items():\n",
    "\n",
    "    ## determine if there are any outliers\n",
    "    outliers = np.abs(stats.zscore(data)) > 3\n",
    "    \n",
    "    ## print a statement about how many outliers for which group name\n",
    "    print(f\"There were {outliers.sum()} outliers in the {certification} group.\")\n",
    "\n",
    "    ## Remove the outiers from data and overwrite the sector data in the dict\n",
    "    data = data.loc[~outliers]\n",
    "    groups[certification] = data"
   ]
  },
  {
   "cell_type": "code",
   "execution_count": null,
   "id": "318add49-ea12-4cba-8d43-550b8a49852b",
   "metadata": {},
   "outputs": [],
   "source": [
    "## Running normal test on each group and confirming there are >20 in each group\n",
    "\n",
    "## Save a list with an inner list of column names\n",
    "norm_results = [['group','n','pval','sig?']]\n",
    "\n",
    "\n",
    "## loop through group dict\n",
    "for certification, data in groups.items():\n",
    "    ## calculate normaltest results\n",
    "    stat, p = stats.normaltest(data)\n",
    "    \n",
    "    ## Append the right info into norm_resutls (as a list)\n",
    "    norm_results.append([certification,len(data), p, p<.05])\n",
    "    \n",
    "    \n",
    "## Make norm_results a dataframe (first row is columns, everything else data)\n",
    "normal_results = pd.DataFrame(norm_results[1:], columns = norm_results[0])\n",
    "normal_results"
   ]
  },
  {
   "cell_type": "code",
   "execution_count": null,
   "id": "9ae85a9c-f7e8-4f6f-8e38-91ebc67b1f11",
   "metadata": {},
   "outputs": [],
   "source": [
    "## Levene's test for equal variance\n",
    "result = stats.levene(*groups.values())\n",
    "print(result)"
   ]
  },
  {
   "cell_type": "code",
   "execution_count": null,
   "id": "c8d8aa2a-7f18-4595-899b-092771eb8f67",
   "metadata": {},
   "outputs": [],
   "source": [
    "if result.pvalue < .05:\n",
    "    print(f\"The groups do NOT have equal variance.\")\n",
    "else:\n",
    "    print(f\"The groups DO have equal variance.\")"
   ]
  },
  {
   "cell_type": "code",
   "execution_count": null,
   "id": "e40b4e9f-81a7-4ad5-8b1c-f083ab4b83d4",
   "metadata": {},
   "outputs": [],
   "source": [
    "result = stats.f_oneway( *groups.values())\n",
    "result"
   ]
  },
  {
   "cell_type": "code",
   "execution_count": null,
   "id": "b410d1df-4c35-4908-8493-34bebf499092",
   "metadata": {},
   "outputs": [],
   "source": [
    "## slice a test \n",
    "temp = groups[\"G\"]\n",
    "temp"
   ]
  },
  {
   "cell_type": "code",
   "execution_count": null,
   "id": "e520794d-711c-4c8a-a854-f6f9527dd8fa",
   "metadata": {},
   "outputs": [],
   "source": [
    "pd.DataFrame({'popularity':temp, 'certification':'G'})"
   ]
  },
  {
   "cell_type": "markdown",
   "id": "fe37017b-6933-40a4-b0be-b078bfa52336",
   "metadata": {},
   "source": [
    "## make a list for saving the dataframes to\n",
    "tukeys_dfs = []\n",
    "\n",
    "## Loop through groups dict's items\n",
    "for certification, temp in groups.items():\n",
    "    \n",
    "    ## make a temp_df with the data and the sector name\n",
    "    temp_df = pd.DataFrame({'popularity':temp, 'certification':certification})\n",
    "    \n",
    "    ## append to tukeys_dfs\n",
    "    tukeys_dfs.append(temp_df)\n",
    "    \n",
    "## concatenate them into 1 dataframe    \n",
    "tukeys_data = pd.concat(tukeys_dfs)\n",
    "tukeys_data"
   ]
  },
  {
   "cell_type": "code",
   "execution_count": null,
   "id": "d0a1c2b9-da28-43d5-bdb6-3e104c7305b0",
   "metadata": {},
   "outputs": [],
   "source": [
    "## save the values \n",
    "values = tukeys_data['popularity']\n",
    "labels = tukeys_data['certification']\n",
    "\n",
    "## perform tukey's multiple comparison test and display the summary\n",
    "tukeys_results = pairwise_tukeyhsd(values,labels)\n",
    "tukeys_results.summary()"
   ]
  },
  {
   "cell_type": "code",
   "execution_count": null,
   "id": "3162fbfb-bde8-4e3c-aff5-9ae458e2e4ea",
   "metadata": {},
   "outputs": [],
   "source": [
    "## make a barplot of final data to go with results\n",
    "ax = sns.barplot(data=tukeys_data, x='certification', y='popularity', errorbar=('ci', 68))\n",
    "ax.set_xticklabels(ax.get_xticklabels(), rotation='vertical', ha='right');"
   ]
  },
  {
   "cell_type": "code",
   "execution_count": null,
   "id": "69a525eb-6af3-4f4e-8aa7-de9137fe8db8",
   "metadata": {},
   "outputs": [],
   "source": [
    "tukeys_results.plot_simultaneous();"
   ]
  },
  {
   "cell_type": "code",
   "execution_count": null,
   "id": "b4bec0a1-939b-4a2d-915a-0b95b8c6b779",
   "metadata": {},
   "outputs": [],
   "source": [
    "Null hypothesis rejected."
   ]
  }
 ],
 "metadata": {
  "kernelspec": {
   "display_name": "Python 3 (ipykernel)",
   "language": "python",
   "name": "python3"
  },
  "language_info": {
   "codemirror_mode": {
    "name": "ipython",
    "version": 3
   },
   "file_extension": ".py",
   "mimetype": "text/x-python",
   "name": "python",
   "nbconvert_exporter": "python",
   "pygments_lexer": "ipython3",
   "version": "3.10.10"
  },
  "widgets": {
   "application/vnd.jupyter.widget-state+json": {
    "state": {},
    "version_major": 2,
    "version_minor": 0
   }
  }
 },
 "nbformat": 4,
 "nbformat_minor": 5
}
