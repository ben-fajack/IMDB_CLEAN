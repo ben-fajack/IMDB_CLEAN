{
 "cells": [
  {
   "cell_type": "code",
   "execution_count": null,
   "id": "a9cf5cec-c8ac-4651-a295-3314d371d5e7",
   "metadata": {},
   "outputs": [],
   "source": [
    "import json\n",
    "import pandas as pd\n",
    "import numpy as np\n",
    "import matplotlib.pyplot as plt\n",
    "import seaborn as sns\n",
    "from scipy import stats\n",
    "import scipy\n",
    "scipy.__version__\n",
    "from sqlalchemy import create_engine\n",
    "from sqlalchemy_utils import database_exists, create_database\n",
    "import pymysql\n",
    "pymysql.install_as_MySQLdb()\n",
    "from urllib.parse import quote_plus as urlquote\n",
    "from statsmodels.stats.multicomp import pairwise_tukeyhsd"
   ]
  },
  {
   "cell_type": "code",
   "execution_count": null,
   "id": "b92dcd6c-95c6-4ee1-a306-0ae7b0afaf99",
   "metadata": {},
   "outputs": [],
   "source": [
    "df_2001 = pd.read_csv(\"data/final_tmdb_data_2001.csv.gz\")\n",
    "df_2001.head(2)"
   ]
  },
  {
   "cell_type": "code",
   "execution_count": null,
   "id": "b4a83854-678c-4d06-a3a4-51a011138d4d",
   "metadata": {},
   "outputs": [],
   "source": [
    "df_2002 = pd.read_csv(\"data/final_tmdb_data_2002.csv.gz\")\n",
    "df_2002.head(2)"
   ]
  },
  {
   "cell_type": "code",
   "execution_count": null,
   "id": "54258a2c-9f62-42d0-aecb-36d8f89762df",
   "metadata": {},
   "outputs": [],
   "source": [
    "df = pd.concat([df_2011, df_2012], ignore_index=True, sort=False)"
   ]
  },
  {
   "cell_type": "code",
   "execution_count": null,
   "id": "78545a48-eb4e-416d-8486-743d605ce444",
   "metadata": {},
   "outputs": [],
   "source": [
    "# Setting the id as the index\n",
    "df = df.set_index('imdb_id')\n",
    "df.info()"
   ]
  },
  {
   "cell_type": "code",
   "execution_count": null,
   "id": "756911c4-74e8-4e5b-8206-25a943d953bd",
   "metadata": {},
   "outputs": [],
   "source": [
    "df = df.dropna()"
   ]
  },
  {
   "cell_type": "markdown",
   "id": "fbba72c3-6fb8-4ea1-8389-065c0cd194c6",
   "metadata": {},
   "source": [
    "Q1: Does rating affect revenue?"
   ]
  },
  {
   "cell_type": "markdown",
   "id": "8a23cd2a-5c4f-4fc4-b280-b803b0181500",
   "metadata": {},
   "source": [
    "Null = Rating has no affect on revenue."
   ]
  },
  {
   "cell_type": "markdown",
   "id": "a4d07a52-865b-4005-8ab5-bb194bc39a32",
   "metadata": {},
   "source": [
    "Alternative = Rating does affect revenue."
   ]
  },
  {
   "cell_type": "code",
   "execution_count": null,
   "id": "126fc334-0466-40d6-a534-c4b44bd12924",
   "metadata": {},
   "outputs": [],
   "source": [
    "df['certification'].value_counts()"
   ]
  },
  {
   "cell_type": "code",
   "execution_count": null,
   "id": "32c7c9bf-e622-4744-b696-9c25d0275b86",
   "metadata": {},
   "outputs": [],
   "source": [
    "df['revenue'].describe()"
   ]
  },
  {
   "cell_type": "markdown",
   "id": "ef15e1bf-05c8-4d69-ac07-d87e93aa0188",
   "metadata": {},
   "source": [
    "Multiple numerical samples point to use of Tukey/ANOVA"
   ]
  },
  {
   "cell_type": "code",
   "execution_count": null,
   "id": "0459e296-5075-459e-a364-1d5c32893299",
   "metadata": {},
   "outputs": [],
   "source": [
    "ax = sns.barplot(data=df, x='certification', y='revenue')\n",
    "ax.set_xticklabels(ax.get_xticklabels(), ha='right');"
   ]
  },
  {
   "cell_type": "code",
   "execution_count": null,
   "id": "4d23ed66-b8df-43cd-99d2-69800a7cada1",
   "metadata": {},
   "outputs": [],
   "source": [
    "cols_used = ['certification','revenue']\n",
    "df[cols_used]"
   ]
  },
  {
   "cell_type": "code",
   "execution_count": null,
   "id": "5094328c-59f1-4451-ab73-71574410c8e3",
   "metadata": {},
   "outputs": [],
   "source": [
    "## Create a dictionary\n",
    "groups ={}\n",
    "\n",
    "for certification in df['certification'].unique():\n",
    "    temp = df.loc[df['certification']== certification, 'revenue']\n",
    "    groups[certification] = temp\n",
    "\n",
    "groups.keys()"
   ]
  },
  {
   "cell_type": "code",
   "execution_count": null,
   "id": "57fad227-4661-41fc-9acf-e0e39e92da2d",
   "metadata": {},
   "outputs": [],
   "source": [
    "## Loop through groups dict\n",
    "for certification, data in groups.items():\n",
    "\n",
    "    ## determine if there are any outliers\n",
    "    outliers = np.abs(stats.zscore(data)) > 3\n",
    "    \n",
    "    ## print a statement about how many outliers for which group name\n",
    "    print(f\"There were {outliers.sum()} outliers in the {certification} group.\")\n",
    "\n",
    "    ## Remove the outiers from data and overwrite the sector data in the dict\n",
    "    data = data.loc[~outliers]\n",
    "    groups[certification] = data"
   ]
  },
  {
   "cell_type": "markdown",
   "id": "f7487c97-bae7-45f9-8988-de296bb0c6f3",
   "metadata": {},
   "source": [
    "No outliers. Normality and equal variance."
   ]
  },
  {
   "cell_type": "code",
   "execution_count": null,
   "id": "9de563fc-7443-4279-b5f2-66c2ad000066",
   "metadata": {},
   "outputs": [],
   "source": [
    "## Running normal test on each group and confirming there are >20 in each group\n",
    "\n",
    "## Save a list with an inner list of column names\n",
    "norm_results = [['group','n','pval','sig?']]\n",
    "\n",
    "\n",
    "## loop through group dict\n",
    "for certification, data in groups.items():\n",
    "    ## calculate normaltest results\n",
    "    stat, p = stats.normaltest(data)\n",
    "    \n",
    "    ## Append the right info into norm_resutls (as a list)\n",
    "    norm_results.append([certification,len(data), p, p<.05])\n",
    "    \n",
    "    \n",
    "## Make norm_results a dataframe (first row is columns, everything else data)\n",
    "normal_results = pd.DataFrame(norm_results[1:], columns = norm_results[0])\n",
    "normal_results"
   ]
  },
  {
   "cell_type": "code",
   "execution_count": null,
   "id": "60b9bcf9-b084-4fd5-8432-f507aeec4713",
   "metadata": {},
   "outputs": [],
   "source": [
    "## Levene's test for equal variance\n",
    "result = stats.levene(*groups.values())\n",
    "print(result)"
   ]
  },
  {
   "cell_type": "code",
   "execution_count": null,
   "id": "e792f676-809e-43c7-8949-599eaeffe7ba",
   "metadata": {},
   "outputs": [],
   "source": [
    "if result.pvalue < .05:\n",
    "    print(f\"The groups do NOT have equal variance.\")\n",
    "else:\n",
    "    print(f\"The groups DO have equal variance.\")"
   ]
  },
  {
   "cell_type": "code",
   "execution_count": null,
   "id": "915f5941-398f-44d9-8e8f-1e3fec0fc8fa",
   "metadata": {},
   "outputs": [],
   "source": [
    "## Running Krukal Test for Original Hypothesis\n",
    "result = stats.kruskal(*groups.values())\n",
    "print(result)\n",
    "result.pvalue<.05"
   ]
  },
  {
   "cell_type": "markdown",
   "id": "dd904cdd-1897-4d6c-9fa1-698ebce34bb5",
   "metadata": {},
   "source": [
    "Post-hoc multiple comparison tests"
   ]
  },
  {
   "cell_type": "code",
   "execution_count": null,
   "id": "b3f1bae2-be9b-4052-86f2-3682f371fda4",
   "metadata": {},
   "outputs": [],
   "source": [
    "## slice a test sector\n",
    "temp = groups['G']\n",
    "temp"
   ]
  },
  {
   "cell_type": "code",
   "execution_count": null,
   "id": "3211ea03-44ce-4ffa-b4f9-cbffb760e4fb",
   "metadata": {},
   "outputs": [],
   "source": [
    "## test a dataframe \n",
    "pd.DataFrame({'revenue':temp, 'certification':'G'})"
   ]
  },
  {
   "cell_type": "code",
   "execution_count": null,
   "id": "dd62be7f-ebb7-4b44-a87a-354cfd20cf37",
   "metadata": {},
   "outputs": [],
   "source": [
    "## make a list for saving the dataframes to\n",
    "tukeys_dfs = []\n",
    "\n",
    "## Loop through groups dict's items\n",
    "for certification, temp in groups.items():\n",
    "    \n",
    "    ## make a temp_df with the data and the sector name\n",
    "    temp_df = pd.DataFrame({'revenue':temp, 'certification':certification})\n",
    "    \n",
    "    ## append to tukeys_dfs\n",
    "    tukeys_dfs.append(temp_df)\n",
    "    \n",
    "## concatenate them into 1 dataframe    \n",
    "tukeys_data = pd.concat(tukeys_dfs)\n",
    "tukeys_data"
   ]
  },
  {
   "cell_type": "code",
   "execution_count": null,
   "id": "7158f1de-4a4a-447f-a4ae-d4925503bbd1",
   "metadata": {},
   "outputs": [],
   "source": [
    "## save the values \n",
    "values = tukeys_data['revenue']\n",
    "labels = tukeys_data['certification']\n",
    "\n",
    "## perform tukey's multiple comparison test and display the summary\n",
    "tukeys_results = pairwise_tukeyhsd(values,labels)\n",
    "tukeys_results.summary()"
   ]
  },
  {
   "cell_type": "code",
   "execution_count": null,
   "id": "2e5fdf05-4985-4cb3-ab1f-6074df02b7ef",
   "metadata": {},
   "outputs": [],
   "source": [
    "## make a barplot of final data to go with results\n",
    "ax = sns.barplot(data=tukeys_data, x='certification', y='revenue', ci=68)\n",
    "ax.set_xticklabels(ax.get_xticklabels(), rotation='vertical', ha='right');"
   ]
  },
  {
   "cell_type": "code",
   "execution_count": null,
   "id": "436fdf0e-4df8-476a-b9b5-927efc970373",
   "metadata": {},
   "outputs": [],
   "source": [
    "## Not significantly different\n",
    "tukeys_df[tukeys_df['reject'] ==False]"
   ]
  },
  {
   "cell_type": "code",
   "execution_count": null,
   "id": "46350850-6cde-4dd2-bf5b-79cb143f2bc5",
   "metadata": {},
   "outputs": [],
   "source": [
    "## tukeys_reuslts.plot_simultaneous\n",
    "tukeys_results.plot_simultaneous();"
   ]
  },
  {
   "cell_type": "markdown",
   "id": "46a9f116-858b-4a52-b312-7ee7dcd6389c",
   "metadata": {},
   "source": [
    "Certification does impact revenue."
   ]
  },
  {
   "cell_type": "code",
   "execution_count": null,
   "id": "18d67b0e-423a-495b-8b12-fa71612070c2",
   "metadata": {},
   "outputs": [],
   "source": [
    "ax = sns.barplot(data=df, x='budget', y='revenue')\n",
    "ax.set_xticklabels(ax.get_xticklabels(), rotation=90, ha='right');"
   ]
  },
  {
   "cell_type": "code",
   "execution_count": null,
   "id": "874db523-872e-4fae-aac7-5ccd5857aa3b",
   "metadata": {},
   "outputs": [],
   "source": [
    "## Create a dictionary with each group as key and funded_amount as values\n",
    "groups ={}\n",
    "\n",
    "for budget in df['budget'].unique():\n",
    "    temp = df.loc[df['budget']== budget, 'revenue']\n",
    "    groups[budget] = temp\n",
    "\n",
    "groups.keys()"
   ]
  },
  {
   "cell_type": "code",
   "execution_count": null,
   "id": "21d8736d-6e6d-4df9-8d96-8ea722affc08",
   "metadata": {},
   "outputs": [],
   "source": [
    "## Loop through groups dict\n",
    "for budget, data in groups.items():\n",
    "\n",
    "    ## determine if there are any outliers\n",
    "    outliers = np.abs(stats.zscore(data)) > 3\n",
    "    \n",
    "    ## print a statement about how many outliers for which group name\n",
    "    print(f\"There were {outliers.sum()} outliers in the {sector} group.\")\n",
    "\n",
    "    ## Remove the outiers from data and overwrite the sector data in the dict\n",
    "    data = data.loc[~outliers]\n",
    "    groups[budget] = data"
   ]
  },
  {
   "cell_type": "code",
   "execution_count": null,
   "id": "0388eca6-3700-416a-9ccc-c718cad5bea7",
   "metadata": {},
   "outputs": [],
   "source": [
    "## Running normal test on each group and confirming there are >20 in each group\n",
    "\n",
    "## Save a list with an inner list of column names\n",
    "norm_results = [['group','n','pval','sig?']]\n",
    "\n",
    "\n",
    "## loop through group dict\n",
    "for budget, data in groups.items():\n",
    "    ## calculate normaltest results\n",
    "    stat, p = stats.normaltest(data)\n",
    "    \n",
    "    ## Append the right info into norm_resutls (as a list)\n",
    "    norm_results.append([budget,len(data), p, p<.05])\n",
    "    \n",
    "    \n",
    "## Make norm_results a dataframe (first row is columns, everything else data)\n",
    "normal_results = pd.DataFrame(norm_results[1:], columns = norm_results[0])\n",
    "normal_results"
   ]
  },
  {
   "cell_type": "markdown",
   "id": "326cb970-5c70-4525-b01d-a4130873d9e0",
   "metadata": {},
   "source": [
    "Groups are large enough that we can ignore assumption of normality."
   ]
  },
  {
   "cell_type": "code",
   "execution_count": null,
   "id": "54cb8b3f-0635-477e-87bf-e1932a19bd90",
   "metadata": {},
   "outputs": [],
   "source": [
    "## Use Levene's test for equal variance\n",
    "result = stats.levene(*groups.values())\n",
    "print(result)"
   ]
  },
  {
   "cell_type": "code",
   "execution_count": null,
   "id": "ad2bf02c-ae07-498c-b2b5-ed0c4a14fb6f",
   "metadata": {},
   "outputs": [],
   "source": [
    "if result.pvalue < .05:\n",
    "    print(f\"The groups do NOT have equal variance.\")\n",
    "else:\n",
    "    print(f\"The groups DO have equal variance.\")"
   ]
  },
  {
   "cell_type": "code",
   "execution_count": null,
   "id": "c6b21f41-7c26-4ca4-93f2-8f313cbf5653",
   "metadata": {},
   "outputs": [],
   "source": [
    "## Running Krukal Test for Original Hypothesis\n",
    "result = stats.kruskal(*groups.values())\n",
    "print(result)\n",
    "result.pvalue<.05"
   ]
  },
  {
   "cell_type": "markdown",
   "id": "47a0e59b-88d6-4c48-ad9a-703f29da5c10",
   "metadata": {},
   "source": [
    "P-Value less than .05. Null hypothesis rejected."
   ]
  },
  {
   "cell_type": "markdown",
   "id": "757438fb-1d5b-421c-a538-de6d4859dcc3",
   "metadata": {},
   "source": [
    "Multiple Comparison Test"
   ]
  },
  {
   "cell_type": "code",
   "execution_count": null,
   "id": "88a6b3f4-272e-4cbf-8dce-9ecb986d691b",
   "metadata": {},
   "outputs": [],
   "source": [
    "## slice a test \n",
    "temp = groups[165000000.0]\n",
    "temp"
   ]
  },
  {
   "cell_type": "code",
   "execution_count": null,
   "id": "4b69e5f4-d89f-449f-8fa8-4c1841eb18cd",
   "metadata": {},
   "outputs": [],
   "source": [
    "## test making a datafrae from the test \n",
    "pd.DataFrame({'budget':temp, 'revenue':'165000000.0'})"
   ]
  },
  {
   "cell_type": "code",
   "execution_count": null,
   "id": "47b7f5bb-f379-4297-9e03-a65df274fc20",
   "metadata": {},
   "outputs": [],
   "source": [
    "## make a list for saving the dataframes to\n",
    "tukeys_dfs = []\n",
    "\n",
    "## Loop through groups dict's items\n",
    "for budget, temp in groups.items():\n",
    "    \n",
    "    ## make a temp_df with the name\n",
    "    temp_df = pd.DataFrame({'revenue':temp, 'budget':budget})\n",
    "    \n",
    "    ## append to tukeys_dfs\n",
    "    tukeys_dfs.append(temp_df)\n",
    "    \n",
    "## concatenate them into 1 dataframe    \n",
    "tukeys_data = pd.concat(tukeys_dfs)\n",
    "tukeys_data"
   ]
  },
  {
   "cell_type": "code",
   "execution_count": null,
   "id": "7324ca20-7732-4bf2-aa0a-a73a7f4eec7e",
   "metadata": {},
   "outputs": [],
   "source": [
    "## save the values \n",
    "values = tukeys_data['budget']\n",
    "labels = tukeys_data['revenue']\n",
    "\n",
    "## perform tukey's multiple comparison test and display the summary\n",
    "tukeys_results = pairwise_tukeyhsd(values,labels)\n",
    "summary_table = tukeys_results.summary()\n",
    "limited_summary = summary_table.head(10)\n",
    "print(limited_summary)"
   ]
  },
  {
   "cell_type": "code",
   "execution_count": null,
   "id": "5357026a-853e-4de5-bc33-d9c10b54033e",
   "metadata": {},
   "outputs": [],
   "source": [
    "## make a barplot of final data to go with results\n",
    "ax = sns.barplot(data=tukeys_data, x='budget', y='revenue', ci=68)\n",
    "ax.set_xticklabels(ax.get_xticklabels(), rotation='vertical', ha='right');"
   ]
  },
  {
   "cell_type": "code",
   "execution_count": null,
   "id": "417fd006-1c74-4128-a287-9ee26b887bae",
   "metadata": {},
   "outputs": [],
   "source": [
    "## Not significantly different\n",
    "tukeys_df[tukeys_df['reject'] ==False]"
   ]
  },
  {
   "cell_type": "code",
   "execution_count": null,
   "id": "5d00117b-bb49-49be-b8ff-ff128734d02f",
   "metadata": {},
   "outputs": [],
   "source": [
    "## tukeys_reuslts.plot_simultaneous\n",
    "tukeys_results.plot_simultaneous();"
   ]
  },
  {
   "cell_type": "markdown",
   "id": "37e1c5c3-77c6-4bc6-b698-882bcd370837",
   "metadata": {},
   "source": [
    "Q: Does rating affect popularity?\n",
    "\n",
    "Null: rating does not affect popularity.\n",
    "Alternative: Rating does affect popularity."
   ]
  },
  {
   "cell_type": "code",
   "execution_count": null,
   "id": "f77f44de-9a5b-4c33-b53a-48c673e576d4",
   "metadata": {},
   "outputs": [],
   "source": [
    "ax = sns.barplot(data=df, x='certification', y='popularity')\n",
    "ax.set_xticklabels(ax.get_xticklabels(), ha='right'"
   ]
  },
  {
   "cell_type": "code",
   "execution_count": null,
   "id": "42642dab-eb62-4c04-b805-f93e48fee74f",
   "metadata": {},
   "outputs": [],
   "source": [
    "called_cols =  ['certification','popularity']\n",
    "df[called_cols]"
   ]
  },
  {
   "cell_type": "code",
   "execution_count": null,
   "id": "92cb0e52-1def-4eaf-9333-a7a34a8699b9",
   "metadata": {},
   "outputs": [],
   "source": [
    "## Create a dictionary\n",
    "groups ={}\n",
    "\n",
    "for certification in df['certification'].unique():\n",
    "    temp = df.loc[df['certification']== certification, 'popularity']\n",
    "    groups[certification] = temp\n",
    "\n",
    "groups.keys()"
   ]
  },
  {
   "cell_type": "code",
   "execution_count": null,
   "id": "279e9250-2ac9-426d-8bff-71cd81721102",
   "metadata": {},
   "outputs": [],
   "source": [
    "## Loop through groups dict\n",
    "for certification, data in groups.items():\n",
    "\n",
    "    ## determine if there are any outliers\n",
    "    outliers = np.abs(stats.zscore(data)) > 3\n",
    "    \n",
    "    ## print a statement about how many outliers for which group name\n",
    "    print(f\"There were {outliers.sum()} outliers in the {certification} group.\")\n",
    "\n",
    "    ## Remove the outiers from data and overwrite the sector data in the dict\n",
    "    data = data.loc[~outliers]\n",
    "    groups[certification] = data"
   ]
  },
  {
   "cell_type": "code",
   "execution_count": null,
   "id": "318add49-ea12-4cba-8d43-550b8a49852b",
   "metadata": {},
   "outputs": [],
   "source": [
    "## Running normal test on each group and confirming there are >20 in each group\n",
    "\n",
    "## Save a list with an inner list of column names\n",
    "norm_results = [['group','n','pval','sig?']]\n",
    "\n",
    "\n",
    "## loop through group dict\n",
    "for certification, data in groups.items():\n",
    "    ## calculate normaltest results\n",
    "    stat, p = stats.normaltest(data)\n",
    "    \n",
    "    ## Append the right info into norm_resutls (as a list)\n",
    "    norm_results.append([certification,len(data), p, p<.05])\n",
    "    \n",
    "    \n",
    "## Make norm_results a dataframe (first row is columns, everything else data)\n",
    "normal_results = pd.DataFrame(norm_results[1:], columns = norm_results[0])\n",
    "normal_results"
   ]
  },
  {
   "cell_type": "code",
   "execution_count": null,
   "id": "9ae85a9c-f7e8-4f6f-8e38-91ebc67b1f11",
   "metadata": {},
   "outputs": [],
   "source": [
    "## Levene's test for equal variance\n",
    "result = stats.levene(*groups.values())\n",
    "print(result)"
   ]
  },
  {
   "cell_type": "code",
   "execution_count": null,
   "id": "c8d8aa2a-7f18-4595-899b-092771eb8f67",
   "metadata": {},
   "outputs": [],
   "source": [
    "if result.pvalue < .05:\n",
    "    print(f\"The groups do NOT have equal variance.\")\n",
    "else:\n",
    "    print(f\"The groups DO have equal variance.\")"
   ]
  },
  {
   "cell_type": "code",
   "execution_count": null,
   "id": "e40b4e9f-81a7-4ad5-8b1c-f083ab4b83d4",
   "metadata": {},
   "outputs": [],
   "source": [
    "result = stats.f_oneway( *groups.values())\n",
    "result"
   ]
  },
  {
   "cell_type": "code",
   "execution_count": null,
   "id": "b410d1df-4c35-4908-8493-34bebf499092",
   "metadata": {},
   "outputs": [],
   "source": [
    "## slice a test \n",
    "temp = groups[\"G\"]\n",
    "temp"
   ]
  },
  {
   "cell_type": "code",
   "execution_count": null,
   "id": "e520794d-711c-4c8a-a854-f6f9527dd8fa",
   "metadata": {},
   "outputs": [],
   "source": [
    "pd.DataFrame({'popularity':temp, 'certification':'G'})"
   ]
  },
  {
   "cell_type": "markdown",
   "id": "fe37017b-6933-40a4-b0be-b078bfa52336",
   "metadata": {},
   "source": [
    "## make a list for saving the dataframes to\n",
    "tukeys_dfs = []\n",
    "\n",
    "## Loop through groups dict's items\n",
    "for certification, temp in groups.items():\n",
    "    \n",
    "    ## make a temp_df with the data and the sector name\n",
    "    temp_df = pd.DataFrame({'popularity':temp, 'certification':certification})\n",
    "    \n",
    "    ## append to tukeys_dfs\n",
    "    tukeys_dfs.append(temp_df)\n",
    "    \n",
    "## concatenate them into 1 dataframe    \n",
    "tukeys_data = pd.concat(tukeys_dfs)\n",
    "tukeys_data"
   ]
  },
  {
   "cell_type": "code",
   "execution_count": null,
   "id": "d0a1c2b9-da28-43d5-bdb6-3e104c7305b0",
   "metadata": {},
   "outputs": [],
   "source": [
    "## save the values \n",
    "values = tukeys_data['popularity']\n",
    "labels = tukeys_data['certification']\n",
    "\n",
    "## perform tukey's multiple comparison test and display the summary\n",
    "tukeys_results = pairwise_tukeyhsd(values,labels)\n",
    "tukeys_results.summary()"
   ]
  },
  {
   "cell_type": "code",
   "execution_count": null,
   "id": "3162fbfb-bde8-4e3c-aff5-9ae458e2e4ea",
   "metadata": {},
   "outputs": [],
   "source": [
    "## make a barplot of final data to go with results\n",
    "ax = sns.barplot(data=tukeys_data, x='certification', y='popularity', errorbar=('ci', 68))\n",
    "ax.set_xticklabels(ax.get_xticklabels(), rotation='vertical', ha='right');"
   ]
  },
  {
   "cell_type": "code",
   "execution_count": null,
   "id": "69a525eb-6af3-4f4e-8aa7-de9137fe8db8",
   "metadata": {},
   "outputs": [],
   "source": [
    "tukeys_results.plot_simultaneous();"
   ]
  },
  {
   "cell_type": "code",
   "execution_count": null,
   "id": "b4bec0a1-939b-4a2d-915a-0b95b8c6b779",
   "metadata": {},
   "outputs": [],
   "source": [
    "Null hypothesis rejected."
   ]
  }
 ],
 "metadata": {
  "kernelspec": {
   "display_name": "Python 3 (ipykernel)",
   "language": "python",
   "name": "python3"
  },
  "language_info": {
   "codemirror_mode": {
    "name": "ipython",
    "version": 3
   },
   "file_extension": ".py",
   "mimetype": "text/x-python",
   "name": "python",
   "nbconvert_exporter": "python",
   "pygments_lexer": "ipython3",
   "version": "3.10.10"
  },
  "widgets": {
   "application/vnd.jupyter.widget-state+json": {
    "state": {},
    "version_major": 2,
    "version_minor": 0
   }
  }
 },
 "nbformat": 4,
 "nbformat_minor": 5
}
